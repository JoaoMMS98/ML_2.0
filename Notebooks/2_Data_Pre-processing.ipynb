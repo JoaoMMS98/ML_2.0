{
 "cells": [
  {
   "cell_type": "markdown",
   "metadata": {},
   "source": [
    "<div class='alert alert-block' style='background-color: #ffffff; border: 1px solid #333333; border-radius: 10px; padding: 20px; text-align: center;'> <h1 style='font-family: Arial, sans-serif; color: #000000; font-size: 36px;'>MACHINE LEARNING</h1> <h2 style='font-family: Arial, sans-serif; color: #333333; font-size: 28px;'>MDSAA-BA Program</h2> <hr style='border: 1px solid #555555;'> <h3 style='font-family: 'Open Sans', sans-serif; color: #666666; font-size: 24px;'>To Grant Or Not To Grant Project 2024/2025</h3> </div>"
   ]
  },
  {
   "cell_type": "markdown",
   "metadata": {},
   "source": [
    "## Table of contents"
   ]
  },
  {
   "cell_type": "markdown",
   "metadata": {},
   "source": [
    "1. [Importing Libraries](#1.-Importing-Libraries)\n",
    "2. [Importing the data](#2.-Importing-the-data)\n",
    "3. [Exploring the data](#3.-Exploring-the-data)"
   ]
  },
  {
   "cell_type": "markdown",
   "metadata": {},
   "source": [
    "## 1. Importing Libraries"
   ]
  },
  {
   "cell_type": "code",
   "execution_count": 1,
   "metadata": {},
   "outputs": [],
   "source": [
    "import pandas as pd\n",
    "import numpy as np\n",
    "import matplotlib.pyplot as plt\n",
    "import seaborn as sns\n",
    "import warnings   \n",
    "from sklearn.model_selection import train_test_split\n",
    "from sklearn.preprocessing import RobustScaler\n",
    "from sklearn.preprocessing import OneHotEncoder"
   ]
  },
  {
   "cell_type": "markdown",
   "metadata": {},
   "source": [
    "<br>"
   ]
  },
  {
   "cell_type": "markdown",
   "metadata": {},
   "source": [
    "## 2. Importing the data"
   ]
  },
  {
   "cell_type": "markdown",
   "metadata": {},
   "source": [
    "The `display.max_columns` option controls the number of columns to be printed. By setting the `display.max_columns` option to `None`, Pandas will display all columns in the DataFrame."
   ]
  },
  {
   "cell_type": "code",
   "execution_count": 2,
   "metadata": {},
   "outputs": [],
   "source": [
    "# Displays all columns of the dataset\n",
    "pd.set_option('display.max_columns', None)"
   ]
  },
  {
   "cell_type": "code",
   "execution_count": 3,
   "metadata": {},
   "outputs": [],
   "source": [
    "train = pd.read_csv('../Data/train_explored.csv', index_col=0)\n",
    "test = pd.read_csv('../Data/test_explored.csv', index_col=0)"
   ]
  },
  {
   "cell_type": "markdown",
   "metadata": {},
   "source": [
    "<br>\n",
    "\n",
    "## 3. Model Selection"
   ]
  },
  {
   "cell_type": "markdown",
   "metadata": {},
   "source": [
    "Hold out method"
   ]
  },
  {
   "cell_type": "markdown",
   "metadata": {},
   "source": [
    "In this approach we randomly split the complete data into training and test sets. Then we perform the model training on the training set and use the validation set for validation purpose. 80% of the data will be used for training purposes, while 20% for validation."
   ]
  },
  {
   "cell_type": "markdown",
   "metadata": {},
   "source": [
    "We first split between independent and dependent variables."
   ]
  },
  {
   "cell_type": "code",
   "execution_count": 4,
   "metadata": {},
   "outputs": [],
   "source": [
    "x = train.drop(columns= 'Claim Injury Type')\n",
    "y = train['Claim Injury Type']"
   ]
  },
  {
   "cell_type": "code",
   "execution_count": 5,
   "metadata": {},
   "outputs": [],
   "source": [
    "train_set, val_set, y_train, y_val = train_test_split(x, \n",
    "                                                    y, \n",
    "                                                    test_size=0.2, \n",
    "                                                    random_state=42, \n",
    "                                                    shuffle=True, \n",
    "                                                    stratify=y\n",
    "                                                   )"
   ]
  },
  {
   "cell_type": "markdown",
   "metadata": {},
   "source": [
    "<br>\n",
    "\n",
    "##### 4.1 Addressing the inconsistencies found"
   ]
  },
  {
   "cell_type": "markdown",
   "metadata": {},
   "source": [
    "##### 4.1.1 `Accident Date`"
   ]
  },
  {
   "cell_type": "markdown",
   "metadata": {},
   "source": [
    "In order to have the different components of the date (year, month and day), we are going to split the column `Accident Date` into three columns. We then proceed to remove the column from the datasets."
   ]
  },
  {
   "cell_type": "code",
   "execution_count": 6,
   "metadata": {},
   "outputs": [],
   "source": [
    "train_set['Accident Date'] = pd.to_datetime(train_set['Accident Date'])\n",
    "val_set['Accident Date'] = pd.to_datetime(val_set['Accident Date'])\n",
    "test['Accident Date'] = pd.to_datetime(test['Accident Date'])"
   ]
  },
  {
   "cell_type": "code",
   "execution_count": 7,
   "metadata": {},
   "outputs": [],
   "source": [
    "train_set['Accident Year'] = train_set['Accident Date'].apply(lambda x: x.year)\n",
    "val_set['Accident Year'] = val_set['Accident Date'].apply(lambda x: x.year)\n",
    "test['Accident Year'] = test['Accident Date'].apply(lambda x: x.year)"
   ]
  },
  {
   "cell_type": "code",
   "execution_count": 8,
   "metadata": {},
   "outputs": [],
   "source": [
    "train_set = train_set.drop(columns = 'Accident Date')\n",
    "val_set = val_set.drop(columns = 'Accident Date')\n",
    "test = test.drop(columns = 'Accident Date')"
   ]
  },
  {
   "cell_type": "markdown",
   "metadata": {},
   "source": [
    "One aspect that is important to check is if the age at injury aligns with the difference between the accident date and the birth year. We had already seen that the feature `Age at Injury` has inconsistent values, therefore this mismatch might occur."
   ]
  },
  {
   "cell_type": "code",
   "execution_count": 9,
   "metadata": {},
   "outputs": [
    {
     "data": {
      "text/plain": [
       "False    240703\n",
       "True     218517\n",
       "Name: count, dtype: int64"
      ]
     },
     "execution_count": 9,
     "metadata": {},
     "output_type": "execute_result"
    }
   ],
   "source": [
    "train_set.apply(lambda row: row['Accident Year'] - row['Birth Year'] == row['Age at Injury'], axis=1).value_counts()"
   ]
  },
  {
   "cell_type": "markdown",
   "metadata": {},
   "source": [
    "From the output above, we can see that in 21 8517 claims, there is a misalignment between the calculated age and the recorded age at the time of injury."
   ]
  },
  {
   "cell_type": "code",
   "execution_count": 10,
   "metadata": {},
   "outputs": [
    {
     "data": {
      "text/plain": [
       " 0.0      218517\n",
       " 1.0      194511\n",
       "-1.0         241\n",
       " 119.0        67\n",
       " 118.0         6\n",
       " 120.0         2\n",
       "Name: count, dtype: int64"
      ]
     },
     "execution_count": 10,
     "metadata": {},
     "output_type": "execute_result"
    }
   ],
   "source": [
    "(train_set['Accident Year'] - train_set['Birth Year'] - train_set['Age at Injury']).value_counts()"
   ]
  },
  {
   "cell_type": "markdown",
   "metadata": {},
   "source": [
    "The output above illustrates the differences in ages calculated from the `Accident Year`, `Birth Year`, and `Age at Injury`. Most differences are minor, with the majority falling within a 1-year difference. However, there are also significant anomalies where some records show a difference of more than 100 years. Also, there is some values that cannot be calculated due to missing values in some of these columns."
   ]
  },
  {
   "cell_type": "markdown",
   "metadata": {},
   "source": [
    "Given the inconsistencies and missing values in the date related data, these issues will be addressed. Since, some rows have mismatch between the calculated age and the recorded age at the time of injury we update the age based on the accident year and birth year"
   ]
  },
  {
   "cell_type": "code",
   "execution_count": 11,
   "metadata": {},
   "outputs": [
    {
     "data": {
      "text/html": [
       "<div>\n",
       "<style scoped>\n",
       "    .dataframe tbody tr th:only-of-type {\n",
       "        vertical-align: middle;\n",
       "    }\n",
       "\n",
       "    .dataframe tbody tr th {\n",
       "        vertical-align: top;\n",
       "    }\n",
       "\n",
       "    .dataframe thead th {\n",
       "        text-align: right;\n",
       "    }\n",
       "</style>\n",
       "<table border=\"1\" class=\"dataframe\">\n",
       "  <thead>\n",
       "    <tr style=\"text-align: right;\">\n",
       "      <th></th>\n",
       "      <th>Age at Injury</th>\n",
       "      <th>Alternative Dispute Resolution</th>\n",
       "      <th>Assembly Date</th>\n",
       "      <th>Attorney/Representative</th>\n",
       "      <th>Average Weekly Wage</th>\n",
       "      <th>Birth Year</th>\n",
       "      <th>C-2 Date</th>\n",
       "      <th>C-3 Date</th>\n",
       "      <th>Carrier Name</th>\n",
       "      <th>Carrier Type</th>\n",
       "      <th>County of Injury</th>\n",
       "      <th>COVID-19 Indicator</th>\n",
       "      <th>District Name</th>\n",
       "      <th>First Hearing Date</th>\n",
       "      <th>Gender</th>\n",
       "      <th>IME-4 Count</th>\n",
       "      <th>Industry Code</th>\n",
       "      <th>Medical Fee Region</th>\n",
       "      <th>WCIO Cause of Injury Code</th>\n",
       "      <th>WCIO Nature of Injury Code</th>\n",
       "      <th>WCIO Part Of Body Code</th>\n",
       "      <th>Zip Code</th>\n",
       "      <th>Agreement Reached</th>\n",
       "      <th>Number of Dependents</th>\n",
       "      <th>Accident Year</th>\n",
       "    </tr>\n",
       "    <tr>\n",
       "      <th>Claim Identifier</th>\n",
       "      <th></th>\n",
       "      <th></th>\n",
       "      <th></th>\n",
       "      <th></th>\n",
       "      <th></th>\n",
       "      <th></th>\n",
       "      <th></th>\n",
       "      <th></th>\n",
       "      <th></th>\n",
       "      <th></th>\n",
       "      <th></th>\n",
       "      <th></th>\n",
       "      <th></th>\n",
       "      <th></th>\n",
       "      <th></th>\n",
       "      <th></th>\n",
       "      <th></th>\n",
       "      <th></th>\n",
       "      <th></th>\n",
       "      <th></th>\n",
       "      <th></th>\n",
       "      <th></th>\n",
       "      <th></th>\n",
       "      <th></th>\n",
       "      <th></th>\n",
       "    </tr>\n",
       "  </thead>\n",
       "  <tbody>\n",
       "    <tr>\n",
       "      <th>5980545</th>\n",
       "      <td>31.0</td>\n",
       "      <td>N</td>\n",
       "      <td>2022-05-02</td>\n",
       "      <td>N</td>\n",
       "      <td>3.063832</td>\n",
       "      <td>NaN</td>\n",
       "      <td>2022-04-30</td>\n",
       "      <td>NaN</td>\n",
       "      <td>HEALTH &amp; HOSPITAL CORP.</td>\n",
       "      <td>3A. SELF PUBLIC</td>\n",
       "      <td>BRONX</td>\n",
       "      <td>N</td>\n",
       "      <td>NYC</td>\n",
       "      <td>2023-01-09</td>\n",
       "      <td>F</td>\n",
       "      <td>0.0</td>\n",
       "      <td>62.0</td>\n",
       "      <td>IV</td>\n",
       "      <td>99.0</td>\n",
       "      <td>1.0</td>\n",
       "      <td>-9.0</td>\n",
       "      <td>10451</td>\n",
       "      <td>0.0</td>\n",
       "      <td>2.0</td>\n",
       "      <td>2022.0</td>\n",
       "    </tr>\n",
       "    <tr>\n",
       "      <th>5488794</th>\n",
       "      <td>31.0</td>\n",
       "      <td>N</td>\n",
       "      <td>2020-05-29</td>\n",
       "      <td>N</td>\n",
       "      <td>0.000000</td>\n",
       "      <td>NaN</td>\n",
       "      <td>2020-06-08</td>\n",
       "      <td>2020-05-20</td>\n",
       "      <td>STARR SPECIALTY INSURANCE</td>\n",
       "      <td>1A. PRIVATE</td>\n",
       "      <td>SUFFOLK</td>\n",
       "      <td>N</td>\n",
       "      <td>HAUPPAUGE</td>\n",
       "      <td>NaN</td>\n",
       "      <td>M</td>\n",
       "      <td>0.0</td>\n",
       "      <td>54.0</td>\n",
       "      <td>UK</td>\n",
       "      <td>45.0</td>\n",
       "      <td>52.0</td>\n",
       "      <td>34.0</td>\n",
       "      <td>34482</td>\n",
       "      <td>0.0</td>\n",
       "      <td>6.0</td>\n",
       "      <td>2019.0</td>\n",
       "    </tr>\n",
       "    <tr>\n",
       "      <th>5469588</th>\n",
       "      <td>33.0</td>\n",
       "      <td>N</td>\n",
       "      <td>2020-04-21</td>\n",
       "      <td>Y</td>\n",
       "      <td>3.213783</td>\n",
       "      <td>NaN</td>\n",
       "      <td>2020-05-21</td>\n",
       "      <td>2020-04-08</td>\n",
       "      <td>POLICE, FIRE, SANITATION</td>\n",
       "      <td>3A. SELF PUBLIC</td>\n",
       "      <td>RICHMOND</td>\n",
       "      <td>N</td>\n",
       "      <td>NYC</td>\n",
       "      <td>2021-09-27</td>\n",
       "      <td>M</td>\n",
       "      <td>1.0</td>\n",
       "      <td>92.0</td>\n",
       "      <td>IV</td>\n",
       "      <td>27.0</td>\n",
       "      <td>10.0</td>\n",
       "      <td>31.0</td>\n",
       "      <td>10308</td>\n",
       "      <td>0.0</td>\n",
       "      <td>6.0</td>\n",
       "      <td>2020.0</td>\n",
       "    </tr>\n",
       "    <tr>\n",
       "      <th>5614437</th>\n",
       "      <td>25.0</td>\n",
       "      <td>N</td>\n",
       "      <td>2020-12-10</td>\n",
       "      <td>Y</td>\n",
       "      <td>3.132935</td>\n",
       "      <td>NaN</td>\n",
       "      <td>2020-12-18</td>\n",
       "      <td>2020-11-03</td>\n",
       "      <td>FEDERAL INSURANCE COMPANY</td>\n",
       "      <td>1A. PRIVATE</td>\n",
       "      <td>ERIE</td>\n",
       "      <td>N</td>\n",
       "      <td>BUFFALO</td>\n",
       "      <td>2021-03-09</td>\n",
       "      <td>M</td>\n",
       "      <td>1.0</td>\n",
       "      <td>71.0</td>\n",
       "      <td>UK</td>\n",
       "      <td>98.0</td>\n",
       "      <td>80.0</td>\n",
       "      <td>90.0</td>\n",
       "      <td>02370</td>\n",
       "      <td>0.0</td>\n",
       "      <td>6.0</td>\n",
       "      <td>2019.0</td>\n",
       "    </tr>\n",
       "    <tr>\n",
       "      <th>5458247</th>\n",
       "      <td>59.0</td>\n",
       "      <td>N</td>\n",
       "      <td>2020-03-24</td>\n",
       "      <td>N</td>\n",
       "      <td>0.000000</td>\n",
       "      <td>NaN</td>\n",
       "      <td>2020-03-24</td>\n",
       "      <td>NaN</td>\n",
       "      <td>ZURICH AMERICAN INSURANCE CO</td>\n",
       "      <td>1A. PRIVATE</td>\n",
       "      <td>WESTCHESTER</td>\n",
       "      <td>N</td>\n",
       "      <td>NYC</td>\n",
       "      <td>NaN</td>\n",
       "      <td>M</td>\n",
       "      <td>0.0</td>\n",
       "      <td>23.0</td>\n",
       "      <td>III</td>\n",
       "      <td>53.0</td>\n",
       "      <td>59.0</td>\n",
       "      <td>33.0</td>\n",
       "      <td>10587</td>\n",
       "      <td>0.0</td>\n",
       "      <td>3.0</td>\n",
       "      <td>2018.0</td>\n",
       "    </tr>\n",
       "  </tbody>\n",
       "</table>\n",
       "</div>"
      ],
      "text/plain": [
       "                  Age at Injury Alternative Dispute Resolution Assembly Date  \\\n",
       "Claim Identifier                                                               \n",
       "5980545                    31.0                              N    2022-05-02   \n",
       "5488794                    31.0                              N    2020-05-29   \n",
       "5469588                    33.0                              N    2020-04-21   \n",
       "5614437                    25.0                              N    2020-12-10   \n",
       "5458247                    59.0                              N    2020-03-24   \n",
       "\n",
       "                 Attorney/Representative  Average Weekly Wage  Birth Year  \\\n",
       "Claim Identifier                                                            \n",
       "5980545                                N             3.063832         NaN   \n",
       "5488794                                N             0.000000         NaN   \n",
       "5469588                                Y             3.213783         NaN   \n",
       "5614437                                Y             3.132935         NaN   \n",
       "5458247                                N             0.000000         NaN   \n",
       "\n",
       "                    C-2 Date    C-3 Date                  Carrier Name  \\\n",
       "Claim Identifier                                                         \n",
       "5980545           2022-04-30         NaN       HEALTH & HOSPITAL CORP.   \n",
       "5488794           2020-06-08  2020-05-20     STARR SPECIALTY INSURANCE   \n",
       "5469588           2020-05-21  2020-04-08      POLICE, FIRE, SANITATION   \n",
       "5614437           2020-12-18  2020-11-03     FEDERAL INSURANCE COMPANY   \n",
       "5458247           2020-03-24         NaN  ZURICH AMERICAN INSURANCE CO   \n",
       "\n",
       "                     Carrier Type County of Injury COVID-19 Indicator  \\\n",
       "Claim Identifier                                                        \n",
       "5980545           3A. SELF PUBLIC            BRONX                  N   \n",
       "5488794               1A. PRIVATE          SUFFOLK                  N   \n",
       "5469588           3A. SELF PUBLIC         RICHMOND                  N   \n",
       "5614437               1A. PRIVATE             ERIE                  N   \n",
       "5458247               1A. PRIVATE      WESTCHESTER                  N   \n",
       "\n",
       "                 District Name First Hearing Date Gender  IME-4 Count  \\\n",
       "Claim Identifier                                                        \n",
       "5980545                    NYC         2023-01-09      F          0.0   \n",
       "5488794              HAUPPAUGE                NaN      M          0.0   \n",
       "5469588                    NYC         2021-09-27      M          1.0   \n",
       "5614437                BUFFALO         2021-03-09      M          1.0   \n",
       "5458247                    NYC                NaN      M          0.0   \n",
       "\n",
       "                  Industry Code Medical Fee Region  WCIO Cause of Injury Code  \\\n",
       "Claim Identifier                                                                \n",
       "5980545                    62.0                 IV                       99.0   \n",
       "5488794                    54.0                 UK                       45.0   \n",
       "5469588                    92.0                 IV                       27.0   \n",
       "5614437                    71.0                 UK                       98.0   \n",
       "5458247                    23.0                III                       53.0   \n",
       "\n",
       "                  WCIO Nature of Injury Code  WCIO Part Of Body Code Zip Code  \\\n",
       "Claim Identifier                                                                \n",
       "5980545                                  1.0                    -9.0    10451   \n",
       "5488794                                 52.0                    34.0    34482   \n",
       "5469588                                 10.0                    31.0    10308   \n",
       "5614437                                 80.0                    90.0    02370   \n",
       "5458247                                 59.0                    33.0    10587   \n",
       "\n",
       "                  Agreement Reached  Number of Dependents  Accident Year  \n",
       "Claim Identifier                                                          \n",
       "5980545                         0.0                   2.0         2022.0  \n",
       "5488794                         0.0                   6.0         2019.0  \n",
       "5469588                         0.0                   6.0         2020.0  \n",
       "5614437                         0.0                   6.0         2019.0  \n",
       "5458247                         0.0                   3.0         2018.0  "
      ]
     },
     "execution_count": 11,
     "metadata": {},
     "output_type": "execute_result"
    }
   ],
   "source": [
    "train_set[train_set['Birth Year'].isna() & train_set['Accident Year'].notna() & train_set['Age at Injury'].notna()].head()"
   ]
  },
  {
   "cell_type": "markdown",
   "metadata": {},
   "source": [
    "There are some rows, that eventhough there are no values in the feature `Birth Year`, we can find based on the values in `Age at Injury` and `Accident Year`."
   ]
  },
  {
   "cell_type": "code",
   "execution_count": 12,
   "metadata": {},
   "outputs": [],
   "source": [
    "train_set.loc[train_set['Birth Year'].isna() & train_set['Accident Year'].notna() & train_set['Age at Injury'].notna(), 'Birth Year'] = (\n",
    "    train_set['Accident Year'] - train_set['Age at Injury'])"
   ]
  },
  {
   "cell_type": "code",
   "execution_count": 13,
   "metadata": {},
   "outputs": [],
   "source": [
    "val_set.loc[val_set['Birth Year'].isna() & val_set['Accident Year'].notna() & val_set['Age at Injury'].notna(), 'Birth Year'] = (\n",
    "    val_set['Accident Year'] - val_set['Age at Injury'])"
   ]
  },
  {
   "cell_type": "markdown",
   "metadata": {},
   "source": [
    "Some rows have the same year in `Accident Year` and `Birth Year` and that is inconsistent. Based on that, the values in `Birth Year` will be replaced as missing."
   ]
  },
  {
   "cell_type": "code",
   "execution_count": 14,
   "metadata": {},
   "outputs": [
    {
     "data": {
      "text/html": [
       "<div>\n",
       "<style scoped>\n",
       "    .dataframe tbody tr th:only-of-type {\n",
       "        vertical-align: middle;\n",
       "    }\n",
       "\n",
       "    .dataframe tbody tr th {\n",
       "        vertical-align: top;\n",
       "    }\n",
       "\n",
       "    .dataframe thead th {\n",
       "        text-align: right;\n",
       "    }\n",
       "</style>\n",
       "<table border=\"1\" class=\"dataframe\">\n",
       "  <thead>\n",
       "    <tr style=\"text-align: right;\">\n",
       "      <th></th>\n",
       "      <th>Age at Injury</th>\n",
       "      <th>Alternative Dispute Resolution</th>\n",
       "      <th>Assembly Date</th>\n",
       "      <th>Attorney/Representative</th>\n",
       "      <th>Average Weekly Wage</th>\n",
       "      <th>Birth Year</th>\n",
       "      <th>C-2 Date</th>\n",
       "      <th>C-3 Date</th>\n",
       "      <th>Carrier Name</th>\n",
       "      <th>Carrier Type</th>\n",
       "      <th>County of Injury</th>\n",
       "      <th>COVID-19 Indicator</th>\n",
       "      <th>District Name</th>\n",
       "      <th>First Hearing Date</th>\n",
       "      <th>Gender</th>\n",
       "      <th>IME-4 Count</th>\n",
       "      <th>Industry Code</th>\n",
       "      <th>Medical Fee Region</th>\n",
       "      <th>WCIO Cause of Injury Code</th>\n",
       "      <th>WCIO Nature of Injury Code</th>\n",
       "      <th>WCIO Part Of Body Code</th>\n",
       "      <th>Zip Code</th>\n",
       "      <th>Agreement Reached</th>\n",
       "      <th>Number of Dependents</th>\n",
       "      <th>Accident Year</th>\n",
       "    </tr>\n",
       "    <tr>\n",
       "      <th>Claim Identifier</th>\n",
       "      <th></th>\n",
       "      <th></th>\n",
       "      <th></th>\n",
       "      <th></th>\n",
       "      <th></th>\n",
       "      <th></th>\n",
       "      <th></th>\n",
       "      <th></th>\n",
       "      <th></th>\n",
       "      <th></th>\n",
       "      <th></th>\n",
       "      <th></th>\n",
       "      <th></th>\n",
       "      <th></th>\n",
       "      <th></th>\n",
       "      <th></th>\n",
       "      <th></th>\n",
       "      <th></th>\n",
       "      <th></th>\n",
       "      <th></th>\n",
       "      <th></th>\n",
       "      <th></th>\n",
       "      <th></th>\n",
       "      <th></th>\n",
       "      <th></th>\n",
       "    </tr>\n",
       "  </thead>\n",
       "  <tbody>\n",
       "    <tr>\n",
       "      <th>5721908</th>\n",
       "      <td>0.0</td>\n",
       "      <td>N</td>\n",
       "      <td>2021-05-14</td>\n",
       "      <td>N</td>\n",
       "      <td>0.0</td>\n",
       "      <td>2021.0</td>\n",
       "      <td>NaN</td>\n",
       "      <td>NaN</td>\n",
       "      <td>AMERICAN GUAR &amp; LIAB INS CO</td>\n",
       "      <td>1A. PRIVATE</td>\n",
       "      <td>CHENANGO</td>\n",
       "      <td>N</td>\n",
       "      <td>BINGHAMTON</td>\n",
       "      <td>NaN</td>\n",
       "      <td>F</td>\n",
       "      <td>0.0</td>\n",
       "      <td>0.0</td>\n",
       "      <td>I</td>\n",
       "      <td>0.0</td>\n",
       "      <td>0.0</td>\n",
       "      <td>0.0</td>\n",
       "      <td>13815</td>\n",
       "      <td>0.0</td>\n",
       "      <td>5.0</td>\n",
       "      <td>2021.0</td>\n",
       "    </tr>\n",
       "    <tr>\n",
       "      <th>5578131</th>\n",
       "      <td>0.0</td>\n",
       "      <td>N</td>\n",
       "      <td>2020-10-15</td>\n",
       "      <td>N</td>\n",
       "      <td>0.0</td>\n",
       "      <td>2020.0</td>\n",
       "      <td>2020-08-14</td>\n",
       "      <td>NaN</td>\n",
       "      <td>GENERAL MOTORS, LLC</td>\n",
       "      <td>4A. SELF PRIVATE</td>\n",
       "      <td>NIAGARA</td>\n",
       "      <td>N</td>\n",
       "      <td>BUFFALO</td>\n",
       "      <td>NaN</td>\n",
       "      <td>F</td>\n",
       "      <td>0.0</td>\n",
       "      <td>0.0</td>\n",
       "      <td>I</td>\n",
       "      <td>99.0</td>\n",
       "      <td>59.0</td>\n",
       "      <td>38.0</td>\n",
       "      <td>NaN</td>\n",
       "      <td>0.0</td>\n",
       "      <td>5.0</td>\n",
       "      <td>2020.0</td>\n",
       "    </tr>\n",
       "    <tr>\n",
       "      <th>5482425</th>\n",
       "      <td>0.0</td>\n",
       "      <td>N</td>\n",
       "      <td>2020-05-15</td>\n",
       "      <td>N</td>\n",
       "      <td>NaN</td>\n",
       "      <td>2020.0</td>\n",
       "      <td>NaN</td>\n",
       "      <td>NaN</td>\n",
       "      <td>STATE INSURANCE FUND</td>\n",
       "      <td>2A. SIF</td>\n",
       "      <td>DUTCHESS</td>\n",
       "      <td>N</td>\n",
       "      <td>ALBANY</td>\n",
       "      <td>NaN</td>\n",
       "      <td>F</td>\n",
       "      <td>0.0</td>\n",
       "      <td>61.0</td>\n",
       "      <td>II</td>\n",
       "      <td>0.0</td>\n",
       "      <td>0.0</td>\n",
       "      <td>0.0</td>\n",
       "      <td>12601</td>\n",
       "      <td>0.0</td>\n",
       "      <td>1.0</td>\n",
       "      <td>2020.0</td>\n",
       "    </tr>\n",
       "    <tr>\n",
       "      <th>5708974</th>\n",
       "      <td>0.0</td>\n",
       "      <td>N</td>\n",
       "      <td>2021-04-27</td>\n",
       "      <td>N</td>\n",
       "      <td>0.0</td>\n",
       "      <td>2021.0</td>\n",
       "      <td>2021-04-23</td>\n",
       "      <td>NaN</td>\n",
       "      <td>GREAT NECK UNION FREE</td>\n",
       "      <td>3A. SELF PUBLIC</td>\n",
       "      <td>NASSAU</td>\n",
       "      <td>N</td>\n",
       "      <td>NYC</td>\n",
       "      <td>NaN</td>\n",
       "      <td>F</td>\n",
       "      <td>0.0</td>\n",
       "      <td>0.0</td>\n",
       "      <td>IV</td>\n",
       "      <td>74.0</td>\n",
       "      <td>10.0</td>\n",
       "      <td>17.0</td>\n",
       "      <td>11021</td>\n",
       "      <td>0.0</td>\n",
       "      <td>5.0</td>\n",
       "      <td>2021.0</td>\n",
       "    </tr>\n",
       "    <tr>\n",
       "      <th>5564192</th>\n",
       "      <td>0.0</td>\n",
       "      <td>N</td>\n",
       "      <td>2020-09-23</td>\n",
       "      <td>Y</td>\n",
       "      <td>0.0</td>\n",
       "      <td>2020.0</td>\n",
       "      <td>NaN</td>\n",
       "      <td>2020-08-20</td>\n",
       "      <td>STATE INSURANCE FUND</td>\n",
       "      <td>2A. SIF</td>\n",
       "      <td>NEW YORK</td>\n",
       "      <td>N</td>\n",
       "      <td>NYC</td>\n",
       "      <td>NaN</td>\n",
       "      <td>F</td>\n",
       "      <td>0.0</td>\n",
       "      <td>62.0</td>\n",
       "      <td>IV</td>\n",
       "      <td>0.0</td>\n",
       "      <td>0.0</td>\n",
       "      <td>0.0</td>\n",
       "      <td>11356</td>\n",
       "      <td>0.0</td>\n",
       "      <td>2.0</td>\n",
       "      <td>2020.0</td>\n",
       "    </tr>\n",
       "  </tbody>\n",
       "</table>\n",
       "</div>"
      ],
      "text/plain": [
       "                  Age at Injury Alternative Dispute Resolution Assembly Date  \\\n",
       "Claim Identifier                                                               \n",
       "5721908                     0.0                              N    2021-05-14   \n",
       "5578131                     0.0                              N    2020-10-15   \n",
       "5482425                     0.0                              N    2020-05-15   \n",
       "5708974                     0.0                              N    2021-04-27   \n",
       "5564192                     0.0                              N    2020-09-23   \n",
       "\n",
       "                 Attorney/Representative  Average Weekly Wage  Birth Year  \\\n",
       "Claim Identifier                                                            \n",
       "5721908                                N                  0.0      2021.0   \n",
       "5578131                                N                  0.0      2020.0   \n",
       "5482425                                N                  NaN      2020.0   \n",
       "5708974                                N                  0.0      2021.0   \n",
       "5564192                                Y                  0.0      2020.0   \n",
       "\n",
       "                    C-2 Date    C-3 Date                 Carrier Name  \\\n",
       "Claim Identifier                                                        \n",
       "5721908                  NaN         NaN  AMERICAN GUAR & LIAB INS CO   \n",
       "5578131           2020-08-14         NaN          GENERAL MOTORS, LLC   \n",
       "5482425                  NaN         NaN         STATE INSURANCE FUND   \n",
       "5708974           2021-04-23         NaN        GREAT NECK UNION FREE   \n",
       "5564192                  NaN  2020-08-20         STATE INSURANCE FUND   \n",
       "\n",
       "                      Carrier Type County of Injury COVID-19 Indicator  \\\n",
       "Claim Identifier                                                         \n",
       "5721908                1A. PRIVATE         CHENANGO                  N   \n",
       "5578131           4A. SELF PRIVATE          NIAGARA                  N   \n",
       "5482425                    2A. SIF         DUTCHESS                  N   \n",
       "5708974            3A. SELF PUBLIC           NASSAU                  N   \n",
       "5564192                    2A. SIF         NEW YORK                  N   \n",
       "\n",
       "                 District Name First Hearing Date Gender  IME-4 Count  \\\n",
       "Claim Identifier                                                        \n",
       "5721908             BINGHAMTON                NaN      F          0.0   \n",
       "5578131                BUFFALO                NaN      F          0.0   \n",
       "5482425                 ALBANY                NaN      F          0.0   \n",
       "5708974                    NYC                NaN      F          0.0   \n",
       "5564192                    NYC                NaN      F          0.0   \n",
       "\n",
       "                  Industry Code Medical Fee Region  WCIO Cause of Injury Code  \\\n",
       "Claim Identifier                                                                \n",
       "5721908                     0.0                  I                        0.0   \n",
       "5578131                     0.0                  I                       99.0   \n",
       "5482425                    61.0                 II                        0.0   \n",
       "5708974                     0.0                 IV                       74.0   \n",
       "5564192                    62.0                 IV                        0.0   \n",
       "\n",
       "                  WCIO Nature of Injury Code  WCIO Part Of Body Code Zip Code  \\\n",
       "Claim Identifier                                                                \n",
       "5721908                                  0.0                     0.0    13815   \n",
       "5578131                                 59.0                    38.0      NaN   \n",
       "5482425                                  0.0                     0.0    12601   \n",
       "5708974                                 10.0                    17.0    11021   \n",
       "5564192                                  0.0                     0.0    11356   \n",
       "\n",
       "                  Agreement Reached  Number of Dependents  Accident Year  \n",
       "Claim Identifier                                                          \n",
       "5721908                         0.0                   5.0         2021.0  \n",
       "5578131                         0.0                   5.0         2020.0  \n",
       "5482425                         0.0                   1.0         2020.0  \n",
       "5708974                         0.0                   5.0         2021.0  \n",
       "5564192                         0.0                   2.0         2020.0  "
      ]
     },
     "execution_count": 14,
     "metadata": {},
     "output_type": "execute_result"
    }
   ],
   "source": [
    "train_set[train_set[\"Birth Year\"] == train_set[\"Accident Year\"]].head(5)"
   ]
  },
  {
   "cell_type": "code",
   "execution_count": 15,
   "metadata": {},
   "outputs": [],
   "source": [
    "train_set.loc[train_set[\"Birth Year\"] == train_set[\"Accident Year\"], \"Birth Year\"] = np.nan"
   ]
  },
  {
   "cell_type": "code",
   "execution_count": 16,
   "metadata": {},
   "outputs": [],
   "source": [
    "val_set.loc[val_set[\"Birth Year\"] == val_set[\"Accident Year\"], \"Birth Year\"] = np.nan"
   ]
  },
  {
   "cell_type": "markdown",
   "metadata": {},
   "source": [
    "Since, some rows have the age at injury different from the difference between the birth year and the year of the accident, those will be updated."
   ]
  },
  {
   "cell_type": "code",
   "execution_count": 17,
   "metadata": {},
   "outputs": [],
   "source": [
    "train_set['Age at Injury'] = train_set['Accident Year'] - train_set['Birth Year']"
   ]
  },
  {
   "cell_type": "code",
   "execution_count": 18,
   "metadata": {},
   "outputs": [],
   "source": [
    "val_set['Age at Injury'] = val_set['Accident Year'] - val_set['Birth Year']"
   ]
  },
  {
   "cell_type": "code",
   "execution_count": 19,
   "metadata": {},
   "outputs": [
    {
     "data": {
      "text/html": [
       "    <style>\n",
       "        .bk-notebook-logo {\n",
       "            display: block;\n",
       "            width: 20px;\n",
       "            height: 20px;\n",
       "            background-image: url(data:image/png;base64,iVBORw0KGgoAAAANSUhEUgAAABQAAAAUCAYAAACNiR0NAAAABHNCSVQICAgIfAhkiAAAAAlwSFlzAAALEgAACxIB0t1+/AAAABx0RVh0U29mdHdhcmUAQWRvYmUgRmlyZXdvcmtzIENTNui8sowAAAOkSURBVDiNjZRtaJVlGMd/1/08zzln5zjP1LWcU9N0NkN8m2CYjpgQYQXqSs0I84OLIC0hkEKoPtiH3gmKoiJDU7QpLgoLjLIQCpEsNJ1vqUOdO7ppbuec5+V+rj4ctwzd8IIbbi6u+8f1539dt3A78eXC7QizUF7gyV1fD1Yqg4JWz84yffhm0qkFqBogB9rM8tZdtwVsPUhWhGcFJngGeWrPzHm5oaMmkfEg1usvLFyc8jLRqDOMru7AyC8saQr7GG7f5fvDeH7Ej8CM66nIF+8yngt6HWaKh7k49Soy9nXurCi1o3qUbS3zWfrYeQDTB/Qj6kX6Ybhw4B+bOYoLKCC9H3Nu/leUTZ1JdRWkkn2ldcCamzrcf47KKXdAJllSlxAOkRgyHsGC/zRday5Qld9DyoM4/q/rUoy/CXh3jzOu3bHUVZeU+DEn8FInkPBFlu3+nW3Nw0mk6vCDiWg8CeJaxEwuHS3+z5RgY+YBR6V1Z1nxSOfoaPa4LASWxxdNp+VWTk7+4vzaou8v8PN+xo+KY2xsw6une2frhw05CTYOmQvsEhjhWjn0bmXPjpE1+kplmmkP3suftwTubK9Vq22qKmrBhpY4jvd5afdRA3wGjFAgcnTK2s4hY0/GPNIb0nErGMCRxWOOX64Z8RAC4oCXdklmEvcL8o0BfkNK4lUg9HTl+oPlQxdNo3Mg4Nv175e/1LDGzZen30MEjRUtmXSfiTVu1kK8W4txyV6BMKlbgk3lMwYCiusNy9fVfvvwMxv8Ynl6vxoByANLTWplvuj/nF9m2+PDtt1eiHPBr1oIfhCChQMBw6Aw0UulqTKZdfVvfG7VcfIqLG9bcldL/+pdWTLxLUy8Qq38heUIjh4XlzZxzQm19lLFlr8vdQ97rjZVOLf8nclzckbcD4wxXMidpX30sFd37Fv/GtwwhzhxGVAprjbg0gCAEeIgwCZyTV2Z1REEW8O4py0wsjeloKoMr6iCY6dP92H6Vw/oTyICIthibxjm/DfN9lVz8IqtqKYLUXfoKVMVQVVJOElGjrnnUt9T9wbgp8AyYKaGlqingHZU/uG2NTZSVqwHQTWkx9hxjkpWDaCg6Ckj5qebgBVbT3V3NNXMSiWSDdGV3hrtzla7J+duwPOToIg42ChPQOQjspnSlp1V+Gjdged7+8UN5CRAV7a5EdFNwCjEaBR27b3W890TE7g24NAP/mMDXRWrGoFPQI9ls/MWO2dWFAar/xcOIImbbpA3zgAAAABJRU5ErkJggg==);\n",
       "        }\n",
       "    </style>\n",
       "    <div>\n",
       "        <a href=\"https://bokeh.org\" target=\"_blank\" class=\"bk-notebook-logo\"></a>\n",
       "        <span id=\"aa994f61-df40-44eb-8c9d-680c7ff5bbd3\">Loading BokehJS ...</span>\n",
       "    </div>\n"
      ]
     },
     "metadata": {},
     "output_type": "display_data"
    },
    {
     "data": {
      "application/javascript": "'use strict';\n(function(root) {\n  function now() {\n    return new Date();\n  }\n\n  const force = true;\n\n  if (typeof root._bokeh_onload_callbacks === \"undefined\" || force === true) {\n    root._bokeh_onload_callbacks = [];\n    root._bokeh_is_loading = undefined;\n  }\n\nconst JS_MIME_TYPE = 'application/javascript';\n  const HTML_MIME_TYPE = 'text/html';\n  const EXEC_MIME_TYPE = 'application/vnd.bokehjs_exec.v0+json';\n  const CLASS_NAME = 'output_bokeh rendered_html';\n\n  /**\n   * Render data to the DOM node\n   */\n  function render(props, node) {\n    const script = document.createElement(\"script\");\n    node.appendChild(script);\n  }\n\n  /**\n   * Handle when an output is cleared or removed\n   */\n  function handleClearOutput(event, handle) {\n    function drop(id) {\n      const view = Bokeh.index.get_by_id(id)\n      if (view != null) {\n        view.model.document.clear()\n        Bokeh.index.delete(view)\n      }\n    }\n\n    const cell = handle.cell;\n\n    const id = cell.output_area._bokeh_element_id;\n    const server_id = cell.output_area._bokeh_server_id;\n\n    // Clean up Bokeh references\n    if (id != null) {\n      drop(id)\n    }\n\n    if (server_id !== undefined) {\n      // Clean up Bokeh references\n      const cmd_clean = \"from bokeh.io.state import curstate; print(curstate().uuid_to_server['\" + server_id + \"'].get_sessions()[0].document.roots[0]._id)\";\n      cell.notebook.kernel.execute(cmd_clean, {\n        iopub: {\n          output: function(msg) {\n            const id = msg.content.text.trim()\n            drop(id)\n          }\n        }\n      });\n      // Destroy server and session\n      const cmd_destroy = \"import bokeh.io.notebook as ion; ion.destroy_server('\" + server_id + \"')\";\n      cell.notebook.kernel.execute(cmd_destroy);\n    }\n  }\n\n  /**\n   * Handle when a new output is added\n   */\n  function handleAddOutput(event, handle) {\n    const output_area = handle.output_area;\n    const output = handle.output;\n\n    // limit handleAddOutput to display_data with EXEC_MIME_TYPE content only\n    if ((output.output_type != \"display_data\") || (!Object.prototype.hasOwnProperty.call(output.data, EXEC_MIME_TYPE))) {\n      return\n    }\n\n    const toinsert = output_area.element.find(\".\" + CLASS_NAME.split(' ')[0]);\n\n    if (output.metadata[EXEC_MIME_TYPE][\"id\"] !== undefined) {\n      toinsert[toinsert.length - 1].firstChild.textContent = output.data[JS_MIME_TYPE];\n      // store reference to embed id on output_area\n      output_area._bokeh_element_id = output.metadata[EXEC_MIME_TYPE][\"id\"];\n    }\n    if (output.metadata[EXEC_MIME_TYPE][\"server_id\"] !== undefined) {\n      const bk_div = document.createElement(\"div\");\n      bk_div.innerHTML = output.data[HTML_MIME_TYPE];\n      const script_attrs = bk_div.children[0].attributes;\n      for (let i = 0; i < script_attrs.length; i++) {\n        toinsert[toinsert.length - 1].firstChild.setAttribute(script_attrs[i].name, script_attrs[i].value);\n        toinsert[toinsert.length - 1].firstChild.textContent = bk_div.children[0].textContent\n      }\n      // store reference to server id on output_area\n      output_area._bokeh_server_id = output.metadata[EXEC_MIME_TYPE][\"server_id\"];\n    }\n  }\n\n  function register_renderer(events, OutputArea) {\n\n    function append_mime(data, metadata, element) {\n      // create a DOM node to render to\n      const toinsert = this.create_output_subarea(\n        metadata,\n        CLASS_NAME,\n        EXEC_MIME_TYPE\n      );\n      this.keyboard_manager.register_events(toinsert);\n      // Render to node\n      const props = {data: data, metadata: metadata[EXEC_MIME_TYPE]};\n      render(props, toinsert[toinsert.length - 1]);\n      element.append(toinsert);\n      return toinsert\n    }\n\n    /* Handle when an output is cleared or removed */\n    events.on('clear_output.CodeCell', handleClearOutput);\n    events.on('delete.Cell', handleClearOutput);\n\n    /* Handle when a new output is added */\n    events.on('output_added.OutputArea', handleAddOutput);\n\n    /**\n     * Register the mime type and append_mime function with output_area\n     */\n    OutputArea.prototype.register_mime_type(EXEC_MIME_TYPE, append_mime, {\n      /* Is output safe? */\n      safe: true,\n      /* Index of renderer in `output_area.display_order` */\n      index: 0\n    });\n  }\n\n  // register the mime type if in Jupyter Notebook environment and previously unregistered\n  if (root.Jupyter !== undefined) {\n    const events = require('base/js/events');\n    const OutputArea = require('notebook/js/outputarea').OutputArea;\n\n    if (OutputArea.prototype.mime_types().indexOf(EXEC_MIME_TYPE) == -1) {\n      register_renderer(events, OutputArea);\n    }\n  }\n  if (typeof (root._bokeh_timeout) === \"undefined\" || force === true) {\n    root._bokeh_timeout = Date.now() + 5000;\n    root._bokeh_failed_load = false;\n  }\n\n  const NB_LOAD_WARNING = {'data': {'text/html':\n     \"<div style='background-color: #fdd'>\\n\"+\n     \"<p>\\n\"+\n     \"BokehJS does not appear to have successfully loaded. If loading BokehJS from CDN, this \\n\"+\n     \"may be due to a slow or bad network connection. Possible fixes:\\n\"+\n     \"</p>\\n\"+\n     \"<ul>\\n\"+\n     \"<li>re-rerun `output_notebook()` to attempt to load from CDN again, or</li>\\n\"+\n     \"<li>use INLINE resources instead, as so:</li>\\n\"+\n     \"</ul>\\n\"+\n     \"<code>\\n\"+\n     \"from bokeh.resources import INLINE\\n\"+\n     \"output_notebook(resources=INLINE)\\n\"+\n     \"</code>\\n\"+\n     \"</div>\"}};\n\n  function display_loaded(error = null) {\n    const el = document.getElementById(\"aa994f61-df40-44eb-8c9d-680c7ff5bbd3\");\n    if (el != null) {\n      const html = (() => {\n        if (typeof root.Bokeh === \"undefined\") {\n          if (error == null) {\n            return \"BokehJS is loading ...\";\n          } else {\n            return \"BokehJS failed to load.\";\n          }\n        } else {\n          const prefix = `BokehJS ${root.Bokeh.version}`;\n          if (error == null) {\n            return `${prefix} successfully loaded.`;\n          } else {\n            return `${prefix} <b>encountered errors</b> while loading and may not function as expected.`;\n          }\n        }\n      })();\n      el.innerHTML = html;\n\n      if (error != null) {\n        const wrapper = document.createElement(\"div\");\n        wrapper.style.overflow = \"auto\";\n        wrapper.style.height = \"5em\";\n        wrapper.style.resize = \"vertical\";\n        const content = document.createElement(\"div\");\n        content.style.fontFamily = \"monospace\";\n        content.style.whiteSpace = \"pre-wrap\";\n        content.style.backgroundColor = \"rgb(255, 221, 221)\";\n        content.textContent = error.stack ?? error.toString();\n        wrapper.append(content);\n        el.append(wrapper);\n      }\n    } else if (Date.now() < root._bokeh_timeout) {\n      setTimeout(() => display_loaded(error), 100);\n    }\n  }\n\n  function run_callbacks() {\n    try {\n      root._bokeh_onload_callbacks.forEach(function(callback) {\n        if (callback != null)\n          callback();\n      });\n    } finally {\n      delete root._bokeh_onload_callbacks\n    }\n    console.debug(\"Bokeh: all callbacks have finished\");\n  }\n\n  function load_libs(css_urls, js_urls, callback) {\n    if (css_urls == null) css_urls = [];\n    if (js_urls == null) js_urls = [];\n\n    root._bokeh_onload_callbacks.push(callback);\n    if (root._bokeh_is_loading > 0) {\n      console.debug(\"Bokeh: BokehJS is being loaded, scheduling callback at\", now());\n      return null;\n    }\n    if (js_urls == null || js_urls.length === 0) {\n      run_callbacks();\n      return null;\n    }\n    console.debug(\"Bokeh: BokehJS not loaded, scheduling load and callback at\", now());\n    root._bokeh_is_loading = css_urls.length + js_urls.length;\n\n    function on_load() {\n      root._bokeh_is_loading--;\n      if (root._bokeh_is_loading === 0) {\n        console.debug(\"Bokeh: all BokehJS libraries/stylesheets loaded\");\n        run_callbacks()\n      }\n    }\n\n    function on_error(url) {\n      console.error(\"failed to load \" + url);\n    }\n\n    for (let i = 0; i < css_urls.length; i++) {\n      const url = css_urls[i];\n      const element = document.createElement(\"link\");\n      element.onload = on_load;\n      element.onerror = on_error.bind(null, url);\n      element.rel = \"stylesheet\";\n      element.type = \"text/css\";\n      element.href = url;\n      console.debug(\"Bokeh: injecting link tag for BokehJS stylesheet: \", url);\n      document.body.appendChild(element);\n    }\n\n    for (let i = 0; i < js_urls.length; i++) {\n      const url = js_urls[i];\n      const element = document.createElement('script');\n      element.onload = on_load;\n      element.onerror = on_error.bind(null, url);\n      element.async = false;\n      element.src = url;\n      console.debug(\"Bokeh: injecting script tag for BokehJS library: \", url);\n      document.head.appendChild(element);\n    }\n  };\n\n  function inject_raw_css(css) {\n    const element = document.createElement(\"style\");\n    element.appendChild(document.createTextNode(css));\n    document.body.appendChild(element);\n  }\n\n  const js_urls = [\"https://cdn.bokeh.org/bokeh/release/bokeh-3.6.0.min.js\", \"https://cdn.bokeh.org/bokeh/release/bokeh-gl-3.6.0.min.js\", \"https://cdn.bokeh.org/bokeh/release/bokeh-widgets-3.6.0.min.js\", \"https://cdn.bokeh.org/bokeh/release/bokeh-tables-3.6.0.min.js\", \"https://cdn.bokeh.org/bokeh/release/bokeh-mathjax-3.6.0.min.js\"];\n  const css_urls = [];\n\n  const inline_js = [    function(Bokeh) {\n      Bokeh.set_log_level(\"info\");\n    },\nfunction(Bokeh) {\n    }\n  ];\n\n  function run_inline_js() {\n    if (root.Bokeh !== undefined || force === true) {\n      try {\n            for (let i = 0; i < inline_js.length; i++) {\n      inline_js[i].call(root, root.Bokeh);\n    }\n\n      } catch (error) {display_loaded(error);throw error;\n      }if (force === true) {\n        display_loaded();\n      }} else if (Date.now() < root._bokeh_timeout) {\n      setTimeout(run_inline_js, 100);\n    } else if (!root._bokeh_failed_load) {\n      console.log(\"Bokeh: BokehJS failed to load within specified timeout.\");\n      root._bokeh_failed_load = true;\n    } else if (force !== true) {\n      const cell = $(document.getElementById(\"aa994f61-df40-44eb-8c9d-680c7ff5bbd3\")).parents('.cell').data().cell;\n      cell.output_area.append_execute_result(NB_LOAD_WARNING)\n    }\n  }\n\n  if (root._bokeh_is_loading === 0) {\n    console.debug(\"Bokeh: BokehJS loaded, going straight to plotting\");\n    run_inline_js();\n  } else {\n    load_libs(css_urls, js_urls, function() {\n      console.debug(\"Bokeh: BokehJS plotting callback run at\", now());\n      run_inline_js();\n    });\n  }\n}(window));",
      "application/vnd.bokehjs_load.v0+json": ""
     },
     "metadata": {},
     "output_type": "display_data"
    },
    {
     "data": {
      "text/html": [
       "\n",
       "  <div id=\"b06233c1-e911-4869-a5cc-812c5234e18e\" data-root-id=\"p1001\" style=\"display: contents;\"></div>\n"
      ]
     },
     "metadata": {},
     "output_type": "display_data"
    },
    {
     "data": {
      "application/javascript": "(function(root) {\n  function embed_document(root) {\n  const docs_json = {\"ac7efd54-3f9d-44ab-b412-226351d0bcb8\":{\"version\":\"3.6.0\",\"title\":\"Bokeh Application\",\"roots\":[{\"type\":\"object\",\"name\":\"Figure\",\"id\":\"p1001\",\"attributes\":{\"x_range\":{\"type\":\"object\",\"name\":\"DataRange1d\",\"id\":\"p1002\"},\"y_range\":{\"type\":\"object\",\"name\":\"DataRange1d\",\"id\":\"p1003\"},\"x_scale\":{\"type\":\"object\",\"name\":\"LinearScale\",\"id\":\"p1011\"},\"y_scale\":{\"type\":\"object\",\"name\":\"LinearScale\",\"id\":\"p1012\"},\"title\":{\"type\":\"object\",\"name\":\"Title\",\"id\":\"p1004\",\"attributes\":{\"text\":\"Histogram of Age at Injury\"}},\"renderers\":[{\"type\":\"object\",\"name\":\"GlyphRenderer\",\"id\":\"p1042\",\"attributes\":{\"data_source\":{\"type\":\"object\",\"name\":\"ColumnDataSource\",\"id\":\"p1036\",\"attributes\":{\"selected\":{\"type\":\"object\",\"name\":\"Selection\",\"id\":\"p1037\",\"attributes\":{\"indices\":[],\"line_indices\":[]}},\"selection_policy\":{\"type\":\"object\",\"name\":\"UnionRenderers\",\"id\":\"p1038\"},\"data\":{\"type\":\"map\",\"entries\":[[\"top\",{\"type\":\"ndarray\",\"array\":{\"type\":\"bytes\",\"data\":\"AgAAAAMAAAALAAAAEQAAAGkBAACbGgAAVUsAACZkAAAWdAAADYEAAO9/AAD9eAAAdnMAAG1vAAAnaQAA9G0AAAR7AACKfAAARnkAANNIAACLVwAAhTUAAJEZAAAuDQAAYQcAANIDAABMAgAAAQEAAGoAAAAyAAAAGQAAABwAAAAsAAAABQAAAAAAAAAAAAAAEQAAABYAAAACAAAASwAAAA==\"},\"shape\":[40],\"dtype\":\"int32\",\"order\":\"little\"}],[\"left\",{\"type\":\"ndarray\",\"array\":{\"type\":\"bytes\",\"data\":\"AAAAAAAAAEDNzMzMzMwTQJqZmZmZmR9ANDMzMzOzJUCamZmZmZkrQAAAAAAAwDBANDMzMzOzM0BnZmZmZqY2QJqZmZmZmTlAzczMzMyMPEAAAAAAAIA/QJqZmZmZOUFANDMzMzOzQkDNzMzMzCxEQGdmZmZmpkVAAAAAAAAgR0CamZmZmZlIQDQzMzMzE0pAzczMzMyMS0BnZmZmZgZNQAAAAAAAgE5AmpmZmZn5T0CamZmZmblQQGdmZmZmdlFANDMzMzMzUkAAAAAAAPBSQM3MzMzMrFNAmpmZmZlpVEBnZmZmZiZVQDQzMzMz41VAAAAAAACgVkDNzMzMzFxXQJqZmZmZGVhAZ2ZmZmbWWEA0MzMzM5NZQAAAAAAAUFpAzczMzMwMW0CamZmZmclbQGdmZmZmhlxANDMzMzNDXUA=\"},\"shape\":[40],\"dtype\":\"float64\",\"order\":\"little\"}],[\"right\",{\"type\":\"ndarray\",\"array\":{\"type\":\"bytes\",\"data\":\"zczMzMzME0CamZmZmZkfQDQzMzMzsyVAmpmZmZmZK0AAAAAAAMAwQDQzMzMzszNAZ2ZmZmamNkCamZmZmZk5QM3MzMzMjDxAAAAAAACAP0CamZmZmTlBQDQzMzMzs0JAzczMzMwsREBnZmZmZqZFQAAAAAAAIEdAmpmZmZmZSEA0MzMzMxNKQM3MzMzMjEtAZ2ZmZmYGTUAAAAAAAIBOQJqZmZmZ+U9AmpmZmZm5UEBnZmZmZnZRQDQzMzMzM1JAAAAAAADwUkDNzMzMzKxTQJqZmZmZaVRAZ2ZmZmYmVUA0MzMzM+NVQAAAAAAAoFZAzczMzMxcV0CamZmZmRlYQGdmZmZm1lhANDMzMzOTWUAAAAAAAFBaQM3MzMzMDFtAmpmZmZnJW0BnZmZmZoZcQDQzMzMzQ11AAAAAAAAAXkA=\"},\"shape\":[40],\"dtype\":\"float64\",\"order\":\"little\"}]]}}},\"view\":{\"type\":\"object\",\"name\":\"CDSView\",\"id\":\"p1043\",\"attributes\":{\"filter\":{\"type\":\"object\",\"name\":\"AllIndices\",\"id\":\"p1044\"}}},\"glyph\":{\"type\":\"object\",\"name\":\"Quad\",\"id\":\"p1039\",\"attributes\":{\"left\":{\"type\":\"field\",\"field\":\"left\"},\"right\":{\"type\":\"field\",\"field\":\"right\"},\"bottom\":{\"type\":\"value\",\"value\":0},\"top\":{\"type\":\"field\",\"field\":\"top\"},\"fill_color\":{\"type\":\"value\",\"value\":\"#FF8C00\"}}},\"nonselection_glyph\":{\"type\":\"object\",\"name\":\"Quad\",\"id\":\"p1040\",\"attributes\":{\"left\":{\"type\":\"field\",\"field\":\"left\"},\"right\":{\"type\":\"field\",\"field\":\"right\"},\"bottom\":{\"type\":\"value\",\"value\":0},\"top\":{\"type\":\"field\",\"field\":\"top\"},\"line_alpha\":{\"type\":\"value\",\"value\":0.1},\"fill_color\":{\"type\":\"value\",\"value\":\"#FF8C00\"},\"fill_alpha\":{\"type\":\"value\",\"value\":0.1},\"hatch_alpha\":{\"type\":\"value\",\"value\":0.1}}},\"muted_glyph\":{\"type\":\"object\",\"name\":\"Quad\",\"id\":\"p1041\",\"attributes\":{\"left\":{\"type\":\"field\",\"field\":\"left\"},\"right\":{\"type\":\"field\",\"field\":\"right\"},\"bottom\":{\"type\":\"value\",\"value\":0},\"top\":{\"type\":\"field\",\"field\":\"top\"},\"line_alpha\":{\"type\":\"value\",\"value\":0.2},\"fill_color\":{\"type\":\"value\",\"value\":\"#FF8C00\"},\"fill_alpha\":{\"type\":\"value\",\"value\":0.2},\"hatch_alpha\":{\"type\":\"value\",\"value\":0.2}}}}}],\"toolbar\":{\"type\":\"object\",\"name\":\"Toolbar\",\"id\":\"p1010\",\"attributes\":{\"tools\":[{\"type\":\"object\",\"name\":\"PanTool\",\"id\":\"p1023\"},{\"type\":\"object\",\"name\":\"WheelZoomTool\",\"id\":\"p1024\",\"attributes\":{\"renderers\":\"auto\"}},{\"type\":\"object\",\"name\":\"BoxZoomTool\",\"id\":\"p1025\",\"attributes\":{\"overlay\":{\"type\":\"object\",\"name\":\"BoxAnnotation\",\"id\":\"p1026\",\"attributes\":{\"syncable\":false,\"line_color\":\"black\",\"line_alpha\":1.0,\"line_width\":2,\"line_dash\":[4,4],\"fill_color\":\"lightgrey\",\"fill_alpha\":0.5,\"level\":\"overlay\",\"visible\":false,\"left\":{\"type\":\"number\",\"value\":\"nan\"},\"right\":{\"type\":\"number\",\"value\":\"nan\"},\"top\":{\"type\":\"number\",\"value\":\"nan\"},\"bottom\":{\"type\":\"number\",\"value\":\"nan\"},\"left_units\":\"canvas\",\"right_units\":\"canvas\",\"top_units\":\"canvas\",\"bottom_units\":\"canvas\",\"handles\":{\"type\":\"object\",\"name\":\"BoxInteractionHandles\",\"id\":\"p1032\",\"attributes\":{\"all\":{\"type\":\"object\",\"name\":\"AreaVisuals\",\"id\":\"p1031\",\"attributes\":{\"fill_color\":\"white\",\"hover_fill_color\":\"lightgray\"}}}}}}}},{\"type\":\"object\",\"name\":\"SaveTool\",\"id\":\"p1033\"},{\"type\":\"object\",\"name\":\"ResetTool\",\"id\":\"p1034\"},{\"type\":\"object\",\"name\":\"HelpTool\",\"id\":\"p1035\"}]}},\"left\":[{\"type\":\"object\",\"name\":\"LinearAxis\",\"id\":\"p1018\",\"attributes\":{\"ticker\":{\"type\":\"object\",\"name\":\"BasicTicker\",\"id\":\"p1019\",\"attributes\":{\"mantissas\":[1,2,5]}},\"formatter\":{\"type\":\"object\",\"name\":\"BasicTickFormatter\",\"id\":\"p1020\"},\"major_label_policy\":{\"type\":\"object\",\"name\":\"AllLabels\",\"id\":\"p1021\"}}}],\"below\":[{\"type\":\"object\",\"name\":\"LinearAxis\",\"id\":\"p1013\",\"attributes\":{\"ticker\":{\"type\":\"object\",\"name\":\"BasicTicker\",\"id\":\"p1014\",\"attributes\":{\"mantissas\":[1,2,5]}},\"formatter\":{\"type\":\"object\",\"name\":\"BasicTickFormatter\",\"id\":\"p1015\"},\"major_label_policy\":{\"type\":\"object\",\"name\":\"AllLabels\",\"id\":\"p1016\"}}}],\"center\":[{\"type\":\"object\",\"name\":\"Grid\",\"id\":\"p1017\",\"attributes\":{\"axis\":{\"id\":\"p1013\"}}},{\"type\":\"object\",\"name\":\"Grid\",\"id\":\"p1022\",\"attributes\":{\"dimension\":1,\"axis\":{\"id\":\"p1018\"}}}]}}]}};\n  const render_items = [{\"docid\":\"ac7efd54-3f9d-44ab-b412-226351d0bcb8\",\"roots\":{\"p1001\":\"b06233c1-e911-4869-a5cc-812c5234e18e\"},\"root_ids\":[\"p1001\"]}];\n  void root.Bokeh.embed.embed_items_notebook(docs_json, render_items);\n  }\n  if (root.Bokeh !== undefined) {\n    embed_document(root);\n  } else {\n    let attempts = 0;\n    const timer = setInterval(function(root) {\n      if (root.Bokeh !== undefined) {\n        clearInterval(timer);\n        embed_document(root);\n      } else {\n        attempts++;\n        if (attempts > 100) {\n          clearInterval(timer);\n          console.log(\"Bokeh: ERROR: Unable to run BokehJS code because BokehJS library is missing\");\n        }\n      }\n    }, 10, root)\n  }\n})(window);",
      "application/vnd.bokehjs_exec.v0+json": ""
     },
     "metadata": {
      "application/vnd.bokehjs_exec.v0+json": {
       "id": "p1001"
      }
     },
     "output_type": "display_data"
    }
   ],
   "source": [
    "from bokeh.io import output_notebook\n",
    "from bokeh.plotting import figure, show\n",
    "import numpy as np\n",
    "\n",
    "output_notebook()\n",
    "\n",
    "cleaned_age = train_set['Age at Injury'].dropna()\n",
    "\n",
    "hist, edges = np.histogram(cleaned_age, bins=40)\n",
    "\n",
    "p = figure(title='Histogram of Age at Injury')\n",
    "\n",
    "p.quad(\n",
    "    top=hist,\n",
    "    bottom=0,\n",
    "    left=edges[:-1],\n",
    "    right=edges[1:],\n",
    "    fill_color='#FF8C00',\n",
    "    line_color='black',      \n",
    "    line_width=1 \n",
    ")\n",
    "\n",
    "# Display the plot in the notebook\n",
    "show(p)"
   ]
  },
  {
   "cell_type": "markdown",
   "metadata": {},
   "source": [
    "<br>\n",
    "\n",
    "#### 4.1.2. `Zip Code`"
   ]
  },
  {
   "cell_type": "markdown",
   "metadata": {},
   "source": [
    "As previously mentioned, there were some Zip codes that were inconsistent, therefore we will address them."
   ]
  },
  {
   "cell_type": "code",
   "execution_count": 20,
   "metadata": {},
   "outputs": [
    {
     "data": {
      "text/plain": [
       "9135"
      ]
     },
     "execution_count": 20,
     "metadata": {},
     "output_type": "execute_result"
    }
   ],
   "source": [
    "len(train_set[\"Zip Code\"].unique())"
   ]
  },
  {
   "cell_type": "code",
   "execution_count": 21,
   "metadata": {},
   "outputs": [
    {
     "data": {
      "text/plain": [
       "406"
      ]
     },
     "execution_count": 21,
     "metadata": {},
     "output_type": "execute_result"
    }
   ],
   "source": [
    "len(train_set[train_set[\"Zip Code\"] == '10567'])"
   ]
  },
  {
   "cell_type": "code",
   "execution_count": 22,
   "metadata": {},
   "outputs": [
    {
     "data": {
      "text/plain": [
       "0"
      ]
     },
     "execution_count": 22,
     "metadata": {},
     "output_type": "execute_result"
    }
   ],
   "source": [
    "len(train_set[train_set[\"Zip Code\"] == 10567.0])"
   ]
  },
  {
   "cell_type": "markdown",
   "metadata": {},
   "source": [
    "The `fix_zip_code` function standardizes zip codes by converting any float values to integers and then back to strings. This ensures consistent formatting across all zip code entries."
   ]
  },
  {
   "cell_type": "code",
   "execution_count": 23,
   "metadata": {},
   "outputs": [],
   "source": [
    "def fix_zip_code(x):\n",
    "    if isinstance(x, float) and x.is_integer():\n",
    "        return str(int(x))[:5]\n",
    "    if isinstance(x, str) and x.isnumeric():\n",
    "        return str(int(x))[:5]\n",
    "    try:\n",
    "        return(str(int(x))[:5])\n",
    "    except:\n",
    "        warnings.warn(\"x cannot be turned into a string of 5 characters\", UserWarning)"
   ]
  },
  {
   "cell_type": "code",
   "execution_count": 24,
   "metadata": {},
   "outputs": [
    {
     "name": "stderr",
     "output_type": "stream",
     "text": [
      "/var/folders/pw/sbpycr1d17b1j4255gwjl17c0000gn/T/ipykernel_41452/2114121942.py:9: UserWarning: x cannot be turned into a string of 5 characters\n",
      "  warnings.warn(\"x cannot be turned into a string of 5 characters\", UserWarning)\n"
     ]
    }
   ],
   "source": [
    "train_set['Zip Code'] = train_set['Zip Code'].apply(fix_zip_code)\n",
    "val_set['Zip Code'] = val_set['Zip Code'].apply(fix_zip_code)"
   ]
  },
  {
   "cell_type": "markdown",
   "metadata": {},
   "source": [
    "Checking if it worked."
   ]
  },
  {
   "cell_type": "code",
   "execution_count": 25,
   "metadata": {},
   "outputs": [
    {
     "data": {
      "text/plain": [
       "7304"
      ]
     },
     "execution_count": 25,
     "metadata": {},
     "output_type": "execute_result"
    }
   ],
   "source": [
    "len(train_set[\"Zip Code\"].unique())"
   ]
  },
  {
   "cell_type": "code",
   "execution_count": 26,
   "metadata": {},
   "outputs": [
    {
     "data": {
      "text/plain": [
       "406"
      ]
     },
     "execution_count": 26,
     "metadata": {},
     "output_type": "execute_result"
    }
   ],
   "source": [
    "len(train_set[train_set[\"Zip Code\"] == '10567'])"
   ]
  },
  {
   "cell_type": "code",
   "execution_count": 27,
   "metadata": {},
   "outputs": [
    {
     "data": {
      "text/plain": [
       "0"
      ]
     },
     "execution_count": 27,
     "metadata": {},
     "output_type": "execute_result"
    }
   ],
   "source": [
    "len(train_set[train_set[\"Zip Code\"] == 10567.0])"
   ]
  },
  {
   "cell_type": "markdown",
   "metadata": {},
   "source": [
    "Now, the values for the `Zip Code` feature are standardized."
   ]
  },
  {
   "cell_type": "markdown",
   "metadata": {},
   "source": [
    "<br>\n",
    "\n",
    "##### 4.2 Feature engineering"
   ]
  },
  {
   "cell_type": "markdown",
   "metadata": {},
   "source": [
    "*Dummy Features*"
   ]
  },
  {
   "cell_type": "markdown",
   "metadata": {},
   "source": [
    "To create binary indicators for whether each form was received, we'll define new columns: `Received_Employer_report` and `Received_employee_claim`. Each will be set to 1 if the corresponding date is present, and 0 if it's missing (already replaced with 0)."
   ]
  },
  {
   "cell_type": "code",
   "execution_count": 28,
   "metadata": {},
   "outputs": [],
   "source": [
    "train_set[\"Received_C2\"] = train_set[\"C-2 Date\"].apply(lambda x: 1 if x != 0 else 0)\n",
    "val_set[\"Received_C2\"] = val_set[\"C-2 Date\"].apply(lambda x: 1 if x != 0 else 0)\n",
    "test[\"Received_C2\"] = test[\"C-2 Date\"].apply(lambda x: 1 if x != 0 else 0)"
   ]
  },
  {
   "cell_type": "code",
   "execution_count": 29,
   "metadata": {},
   "outputs": [],
   "source": [
    "train_set[\"Received_C3\"] = train_set[\"C-3 Date\"].apply(lambda x: 1 if x != 0 else 0)\n",
    "val_set[\"Received_C3\"] = val_set[\"C-3 Date\"].apply(lambda x: 1 if x != 0 else 0)\n",
    "test[\"Received_C3\"] = test[\"C-3 Date\"].apply(lambda x: 1 if x != 0 else 0)"
   ]
  },
  {
   "cell_type": "markdown",
   "metadata": {},
   "source": [
    "The same will be applied to indicate if a hearing was held. We'll create a new column, `Hearing_held`, set to 1 if the `First Hearing Date` happened and 0 if did not (already replaced with 0)."
   ]
  },
  {
   "cell_type": "code",
   "execution_count": 30,
   "metadata": {},
   "outputs": [],
   "source": [
    "train_set[\"Hearing_held\"] = train_set[\"First Hearing Date\"].apply(lambda x: 1 if x != 0 else 0)\n",
    "val_set[\"Hearing_held\"] = val_set[\"First Hearing Date\"].apply(lambda x: 1 if x != 0 else 0)\n",
    "test[\"Hearing_held\"] = test[\"First Hearing Date\"].apply(lambda x: 1 if x != 0 else 0)"
   ]
  },
  {
   "cell_type": "markdown",
   "metadata": {},
   "source": [
    "<br>\n",
    "\n",
    "*Categorical encoding*"
   ]
  },
  {
   "cell_type": "markdown",
   "metadata": {},
   "source": [
    "In this step, we are going to encode some columns using the One Hot Encoder."
   ]
  },
  {
   "cell_type": "markdown",
   "metadata": {},
   "source": [
    "Some features that are binary categorical variables, like yes (Y) and no (N), we will convert it to 0 and 1. One of them will be discarded."
   ]
  },
  {
   "cell_type": "code",
   "execution_count": 31,
   "metadata": {},
   "outputs": [],
   "source": [
    "train_set = pd.get_dummies(train_set, columns=['Attorney/Representative', 'COVID-19 Indicator'], drop_first=True, dtype=int)\n",
    "val_set = pd.get_dummies(val_set, columns=['Attorney/Representative', 'COVID-19 Indicator'], drop_first=True, dtype=int)\n",
    "test = pd.get_dummies(test, columns=['Attorney/Representative', 'COVID-19 Indicator'], drop_first=True, dtype=int)"
   ]
  },
  {
   "cell_type": "markdown",
   "metadata": {},
   "source": [
    "<br>Defining the columns to encode."
   ]
  },
  {
   "cell_type": "code",
   "execution_count": 32,
   "metadata": {},
   "outputs": [],
   "source": [
    "columns_to_encode = ['Alternative Dispute Resolution', 'Gender']"
   ]
  },
  {
   "cell_type": "markdown",
   "metadata": {},
   "source": [
    "Initializing the encoder and fitting it on the training set. This encoder will learns the unique categories present in the training set."
   ]
  },
  {
   "cell_type": "code",
   "execution_count": 33,
   "metadata": {},
   "outputs": [],
   "source": [
    "encoder = OneHotEncoder(sparse_output=False)\n",
    "one_hot_encoded = encoder.fit(train_set[columns_to_encode])"
   ]
  },
  {
   "cell_type": "markdown",
   "metadata": {},
   "source": [
    "Transforming the `train_set`, `val_set`, and `test_set` with the fitted encoder. This ensures that the columns are encoded consistently across all sets."
   ]
  },
  {
   "cell_type": "code",
   "execution_count": 34,
   "metadata": {},
   "outputs": [],
   "source": [
    "train_encoded = encoder.transform(train_set[columns_to_encode])\n",
    "validation_encoded = encoder.transform(val_set[columns_to_encode])\n",
    "test_encoded = encoder.transform(test[columns_to_encode])"
   ]
  },
  {
   "cell_type": "markdown",
   "metadata": {},
   "source": [
    "Converting the arrays into DataFrames with the appropriate column names."
   ]
  },
  {
   "cell_type": "code",
   "execution_count": 35,
   "metadata": {},
   "outputs": [],
   "source": [
    "train_encoded_df = pd.DataFrame(train_encoded, columns=encoder.get_feature_names_out(columns_to_encode), index=train_set.index)\n",
    "validation_encoded_df = pd.DataFrame(validation_encoded, columns=encoder.get_feature_names_out(columns_to_encode), index=val_set.index)\n",
    "test_encoded_df = pd.DataFrame(test_encoded, columns=encoder.get_feature_names_out(columns_to_encode), index=test.index)"
   ]
  },
  {
   "cell_type": "markdown",
   "metadata": {},
   "source": [
    "Dropping the original columns."
   ]
  },
  {
   "cell_type": "code",
   "execution_count": 36,
   "metadata": {},
   "outputs": [],
   "source": [
    "train_set.drop(columns=columns_to_encode, inplace=True)\n",
    "train_set = pd.concat([train_set, train_encoded_df], axis=1)"
   ]
  },
  {
   "cell_type": "code",
   "execution_count": 37,
   "metadata": {},
   "outputs": [],
   "source": [
    "val_set.drop(columns=columns_to_encode, inplace=True)\n",
    "val_set = pd.concat([val_set, validation_encoded_df], axis=1)"
   ]
  },
  {
   "cell_type": "code",
   "execution_count": 38,
   "metadata": {},
   "outputs": [],
   "source": [
    "test.drop(columns=columns_to_encode, inplace=True)\n",
    "test = pd.concat([test, test_encoded_df], axis=1)"
   ]
  },
  {
   "cell_type": "markdown",
   "metadata": {},
   "source": [
    "Dropping the features `Alternative Dispute Resolution_U` and `Gender_X`, in order to avoid multicollinearity."
   ]
  },
  {
   "cell_type": "code",
   "execution_count": 39,
   "metadata": {},
   "outputs": [],
   "source": [
    "train_set.drop(columns='Alternative Dispute Resolution_U', inplace=True)\n",
    "val_set.drop(columns='Alternative Dispute Resolution_U', inplace=True)\n",
    "test.drop(columns='Alternative Dispute Resolution_U', inplace=True)"
   ]
  },
  {
   "cell_type": "code",
   "execution_count": 40,
   "metadata": {},
   "outputs": [],
   "source": [
    "train_set.drop(columns='Gender_X', inplace=True)\n",
    "val_set.drop(columns='Gender_X', inplace=True)\n",
    "test.drop(columns='Gender_X', inplace=True)"
   ]
  },
  {
   "cell_type": "markdown",
   "metadata": {},
   "source": [
    "<br>\n",
    "\n",
    "Frequency encoding"
   ]
  },
  {
   "cell_type": "markdown",
   "metadata": {},
   "source": [
    "`Industry Code`"
   ]
  },
  {
   "cell_type": "code",
   "execution_count": 41,
   "metadata": {},
   "outputs": [],
   "source": [
    "frequency_map_ic = train_set['Industry Code'].value_counts(normalize=True)"
   ]
  },
  {
   "cell_type": "code",
   "execution_count": 42,
   "metadata": {},
   "outputs": [],
   "source": [
    "train_set['Industry Code'] = train_set['Industry Code'].map(frequency_map_ic)\n",
    "val_set['Industry Code'] = val_set['Industry Code'].map(frequency_map_ic)\n",
    "test['Industry Code'] = test['Industry Code'].map(frequency_map_ic)"
   ]
  },
  {
   "cell_type": "markdown",
   "metadata": {},
   "source": [
    "<br>\n",
    "\n",
    "`WCIO Cause of Injury Code`"
   ]
  },
  {
   "cell_type": "code",
   "execution_count": 43,
   "metadata": {},
   "outputs": [],
   "source": [
    "frequency_map_wcio_ic = train_set['WCIO Cause of Injury Code'].value_counts(normalize=True)"
   ]
  },
  {
   "cell_type": "code",
   "execution_count": 44,
   "metadata": {},
   "outputs": [],
   "source": [
    "train_set['WCIO Cause of Injury Code'] = train_set['WCIO Cause of Injury Code'].map(frequency_map_wcio_ic)\n",
    "val_set['WCIO Cause of Injury Code'] = val_set['WCIO Cause of Injury Code'].map(frequency_map_wcio_ic)\n",
    "test['WCIO Cause of Injury Code'] = test['WCIO Cause of Injury Code'].map(frequency_map_wcio_ic)"
   ]
  },
  {
   "cell_type": "markdown",
   "metadata": {},
   "source": [
    "<br>\n",
    "\n",
    "`WCIO Nature of Injury Code`"
   ]
  },
  {
   "cell_type": "code",
   "execution_count": 45,
   "metadata": {},
   "outputs": [],
   "source": [
    "frequency_map_wcio_nic = train_set['WCIO Nature of Injury Code'].value_counts(normalize=True)"
   ]
  },
  {
   "cell_type": "code",
   "execution_count": 46,
   "metadata": {},
   "outputs": [],
   "source": [
    "train_set['WCIO Nature of Injury Code'] = train_set['WCIO Nature of Injury Code'].map(frequency_map_wcio_nic)\n",
    "val_set['WCIO Nature of Injury Code'] = val_set['WCIO Nature of Injury Code'].map(frequency_map_wcio_nic)\n",
    "test['WCIO Nature of Injury Code'] = test['WCIO Nature of Injury Code'].map(frequency_map_wcio_nic)"
   ]
  },
  {
   "cell_type": "markdown",
   "metadata": {},
   "source": [
    "<br>\n",
    "\n",
    "`WCIO Part Of Body Code`"
   ]
  },
  {
   "cell_type": "code",
   "execution_count": 47,
   "metadata": {},
   "outputs": [],
   "source": [
    "frequency_map_wcio_pbc = train_set['WCIO Part Of Body Code'].value_counts(normalize=True)"
   ]
  },
  {
   "cell_type": "code",
   "execution_count": 48,
   "metadata": {},
   "outputs": [],
   "source": [
    "train_set['WCIO Part Of Body Code'] = train_set['WCIO Part Of Body Code'].map(frequency_map_wcio_pbc)\n",
    "val_set['WCIO Part Of Body Code'] = val_set['WCIO Part Of Body Code'].map(frequency_map_wcio_pbc)\n",
    "test['WCIO Part Of Body Code'] = test['WCIO Part Of Body Code'].map(frequency_map_wcio_pbc)"
   ]
  },
  {
   "cell_type": "markdown",
   "metadata": {},
   "source": [
    "<br>\n",
    "\n",
    "`Medical Fee Region`"
   ]
  },
  {
   "cell_type": "code",
   "execution_count": 49,
   "metadata": {},
   "outputs": [],
   "source": [
    "frequency_map_mfr = train_set['Medical Fee Region'].value_counts(normalize=True)"
   ]
  },
  {
   "cell_type": "code",
   "execution_count": 50,
   "metadata": {},
   "outputs": [],
   "source": [
    "train_set['Medical Fee Region'] = train_set['Medical Fee Region'].map(frequency_map_mfr)\n",
    "val_set['Medical Fee Region'] = val_set['Medical Fee Region'].map(frequency_map_mfr)\n",
    "test['Medical Fee Region'] = test['Medical Fee Region'].map(frequency_map_mfr)"
   ]
  },
  {
   "cell_type": "markdown",
   "metadata": {},
   "source": [
    "<br>\n",
    "\n",
    "`Carrier Type`"
   ]
  },
  {
   "cell_type": "code",
   "execution_count": 51,
   "metadata": {},
   "outputs": [],
   "source": [
    "frequency_map_ct = train_set['Carrier Type'].value_counts(normalize=True)"
   ]
  },
  {
   "cell_type": "code",
   "execution_count": 52,
   "metadata": {},
   "outputs": [],
   "source": [
    "train_set['Carrier Type'] = train_set['Carrier Type'].map(frequency_map_ct)\n",
    "val_set['Carrier Type'] = val_set['Carrier Type'].map(frequency_map_ct)\n",
    "test['Carrier Type'] = test['Carrier Type'].map(frequency_map_ct)"
   ]
  },
  {
   "cell_type": "markdown",
   "metadata": {},
   "source": [
    "<br>\n",
    "\n",
    "*Encoding the target feature*"
   ]
  },
  {
   "cell_type": "markdown",
   "metadata": {},
   "source": [
    "Given that the target variable is ordinal and categorical, we are going to encode it."
   ]
  },
  {
   "cell_type": "code",
   "execution_count": 53,
   "metadata": {},
   "outputs": [],
   "source": [
    "injury_type_mapping = {\n",
    "    '1. CANCELLED': 1,\n",
    "    '2. NON-COMP': 2,\n",
    "    '3. MED ONLY': 3,\n",
    "    '4. TEMPORARY': 4,\n",
    "    '5. PPD SCH LOSS': 5,\n",
    "    '6. PPD NSL': 6,\n",
    "    '7. PTD': 7,\n",
    "    '8. DEATH': 8\n",
    "}"
   ]
  },
  {
   "cell_type": "code",
   "execution_count": 54,
   "metadata": {},
   "outputs": [],
   "source": [
    "y_train_encoded = y_train.map(injury_type_mapping)\n",
    "y_val_encoded = y_test.map(injury_type_mapping)"
   ]
  },
  {
   "cell_type": "markdown",
   "metadata": {},
   "source": [
    "<br>\n",
    "\n",
    "#### 4.3 Checking Outliers"
   ]
  },
  {
   "cell_type": "code",
   "execution_count": 55,
   "metadata": {},
   "outputs": [
    {
     "data": {
      "text/plain": [
       "\"# Set up the matplotlib figure\\nplt.figure(figsize=(15, 8))  \\n\\n# Create a grid of subplots for numeric columns\\nfor i, column in enumerate(numeric_columns, 1):\\n    plt.subplot(4, 4, i)  \\n    sns.boxplot(data=train_set[column], color='steelblue')\\n    plt.title(column)  \\n\\n# Adjust layout to prevent overlap\\nplt.tight_layout()\\n\\n# Show the plot\\nplt.show()\""
      ]
     },
     "execution_count": 55,
     "metadata": {},
     "output_type": "execute_result"
    }
   ],
   "source": [
    "\"\"\"# Set up the matplotlib figure\n",
    "plt.figure(figsize=(15, 8))  \n",
    "\n",
    "# Create a grid of subplots for numeric columns\n",
    "for i, column in enumerate(numeric_columns, 1):\n",
    "    plt.subplot(4, 4, i)  \n",
    "    sns.boxplot(data=train_set[column], color='steelblue')\n",
    "    plt.title(column)  \n",
    "\n",
    "# Adjust layout to prevent overlap\n",
    "plt.tight_layout()\n",
    "\n",
    "# Show the plot\n",
    "plt.show()\"\"\""
   ]
  },
  {
   "cell_type": "markdown",
   "metadata": {},
   "source": [
    "Given the presence of outliers in some features, we will apply capping to mitigate their influence. This will be achieved by scaling the `train_set` using the Robust Scaler, which is less sensitive to outliers and ensures that the scaling is based on the interquartile range (IQR) rather than the mean and standard deviation."
   ]
  },
  {
   "cell_type": "markdown",
   "metadata": {},
   "source": [
    "<br>\n",
    "\n",
    "#### 3.4 Filling the missing values"
   ]
  },
  {
   "cell_type": "markdown",
   "metadata": {},
   "source": [
    "As noticed the data has some missing data, therefore we will fill the missing values with the median and mode for numerical and categorical features, respectively."
   ]
  },
  {
   "cell_type": "code",
   "execution_count": 56,
   "metadata": {},
   "outputs": [
    {
     "data": {
      "text/plain": [
       "Age at Injury                         4283\n",
       "Assembly Date                            0\n",
       "Average Weekly Wage                  22968\n",
       "Birth Year                            1730\n",
       "C-2 Date                             11590\n",
       "C-3 Date                            309591\n",
       "Carrier Name                             0\n",
       "Carrier Type                             0\n",
       "County of Injury                         0\n",
       "District Name                            0\n",
       "First Hearing Date                  338649\n",
       "IME-4 Count                              0\n",
       "Industry Code                            0\n",
       "Medical Fee Region                       0\n",
       "WCIO Cause of Injury Code                0\n",
       "WCIO Nature of Injury Code               0\n",
       "WCIO Part Of Body Code                   0\n",
       "Zip Code                             35126\n",
       "Agreement Reached                        0\n",
       "Number of Dependents                     0\n",
       "Accident Year                         2959\n",
       "Received_C2                              0\n",
       "Received_C3                              0\n",
       "Hearing_held                             0\n",
       "Attorney/Representative_Y                0\n",
       "COVID-19 Indicator_Y                     0\n",
       "Alternative Dispute Resolution_N         0\n",
       "Alternative Dispute Resolution_Y         0\n",
       "Gender_F                                 0\n",
       "Gender_M                                 0\n",
       "Gender_U                                 0\n",
       "dtype: int64"
      ]
     },
     "execution_count": 56,
     "metadata": {},
     "output_type": "execute_result"
    }
   ],
   "source": [
    "train_set.isna().sum()"
   ]
  },
  {
   "cell_type": "code",
   "execution_count": 57,
   "metadata": {},
   "outputs": [],
   "source": [
    "col_fill_median = ['Age at Injury', 'Average Weekly Wage', 'Birth Year', 'Accident Year']"
   ]
  },
  {
   "cell_type": "code",
   "execution_count": 58,
   "metadata": {},
   "outputs": [
    {
     "name": "stderr",
     "output_type": "stream",
     "text": [
      "/var/folders/pw/sbpycr1d17b1j4255gwjl17c0000gn/T/ipykernel_41452/1480451714.py:4: FutureWarning: A value is trying to be set on a copy of a DataFrame or Series through chained assignment using an inplace method.\n",
      "The behavior will change in pandas 3.0. This inplace method will never work because the intermediate object on which we are setting values always behaves as a copy.\n",
      "\n",
      "For example, when doing 'df[col].method(value, inplace=True)', try using 'df.method({col: value}, inplace=True)' or df[col] = df[col].method(value) instead, to perform the operation inplace on the original object.\n",
      "\n",
      "\n",
      "  train_set[col].fillna(median_value, inplace=True)\n",
      "/var/folders/pw/sbpycr1d17b1j4255gwjl17c0000gn/T/ipykernel_41452/1480451714.py:5: FutureWarning: A value is trying to be set on a copy of a DataFrame or Series through chained assignment using an inplace method.\n",
      "The behavior will change in pandas 3.0. This inplace method will never work because the intermediate object on which we are setting values always behaves as a copy.\n",
      "\n",
      "For example, when doing 'df[col].method(value, inplace=True)', try using 'df.method({col: value}, inplace=True)' or df[col] = df[col].method(value) instead, to perform the operation inplace on the original object.\n",
      "\n",
      "\n",
      "  val_set[col].fillna(median_value, inplace=True)\n",
      "/var/folders/pw/sbpycr1d17b1j4255gwjl17c0000gn/T/ipykernel_41452/1480451714.py:6: FutureWarning: A value is trying to be set on a copy of a DataFrame or Series through chained assignment using an inplace method.\n",
      "The behavior will change in pandas 3.0. This inplace method will never work because the intermediate object on which we are setting values always behaves as a copy.\n",
      "\n",
      "For example, when doing 'df[col].method(value, inplace=True)', try using 'df.method({col: value}, inplace=True)' or df[col] = df[col].method(value) instead, to perform the operation inplace on the original object.\n",
      "\n",
      "\n",
      "  test[col].fillna(median_value, inplace=True)\n",
      "/var/folders/pw/sbpycr1d17b1j4255gwjl17c0000gn/T/ipykernel_41452/1480451714.py:4: FutureWarning: A value is trying to be set on a copy of a DataFrame or Series through chained assignment using an inplace method.\n",
      "The behavior will change in pandas 3.0. This inplace method will never work because the intermediate object on which we are setting values always behaves as a copy.\n",
      "\n",
      "For example, when doing 'df[col].method(value, inplace=True)', try using 'df.method({col: value}, inplace=True)' or df[col] = df[col].method(value) instead, to perform the operation inplace on the original object.\n",
      "\n",
      "\n",
      "  train_set[col].fillna(median_value, inplace=True)\n",
      "/var/folders/pw/sbpycr1d17b1j4255gwjl17c0000gn/T/ipykernel_41452/1480451714.py:5: FutureWarning: A value is trying to be set on a copy of a DataFrame or Series through chained assignment using an inplace method.\n",
      "The behavior will change in pandas 3.0. This inplace method will never work because the intermediate object on which we are setting values always behaves as a copy.\n",
      "\n",
      "For example, when doing 'df[col].method(value, inplace=True)', try using 'df.method({col: value}, inplace=True)' or df[col] = df[col].method(value) instead, to perform the operation inplace on the original object.\n",
      "\n",
      "\n",
      "  val_set[col].fillna(median_value, inplace=True)\n",
      "/var/folders/pw/sbpycr1d17b1j4255gwjl17c0000gn/T/ipykernel_41452/1480451714.py:6: FutureWarning: A value is trying to be set on a copy of a DataFrame or Series through chained assignment using an inplace method.\n",
      "The behavior will change in pandas 3.0. This inplace method will never work because the intermediate object on which we are setting values always behaves as a copy.\n",
      "\n",
      "For example, when doing 'df[col].method(value, inplace=True)', try using 'df.method({col: value}, inplace=True)' or df[col] = df[col].method(value) instead, to perform the operation inplace on the original object.\n",
      "\n",
      "\n",
      "  test[col].fillna(median_value, inplace=True)\n",
      "/var/folders/pw/sbpycr1d17b1j4255gwjl17c0000gn/T/ipykernel_41452/1480451714.py:4: FutureWarning: A value is trying to be set on a copy of a DataFrame or Series through chained assignment using an inplace method.\n",
      "The behavior will change in pandas 3.0. This inplace method will never work because the intermediate object on which we are setting values always behaves as a copy.\n",
      "\n",
      "For example, when doing 'df[col].method(value, inplace=True)', try using 'df.method({col: value}, inplace=True)' or df[col] = df[col].method(value) instead, to perform the operation inplace on the original object.\n",
      "\n",
      "\n",
      "  train_set[col].fillna(median_value, inplace=True)\n",
      "/var/folders/pw/sbpycr1d17b1j4255gwjl17c0000gn/T/ipykernel_41452/1480451714.py:5: FutureWarning: A value is trying to be set on a copy of a DataFrame or Series through chained assignment using an inplace method.\n",
      "The behavior will change in pandas 3.0. This inplace method will never work because the intermediate object on which we are setting values always behaves as a copy.\n",
      "\n",
      "For example, when doing 'df[col].method(value, inplace=True)', try using 'df.method({col: value}, inplace=True)' or df[col] = df[col].method(value) instead, to perform the operation inplace on the original object.\n",
      "\n",
      "\n",
      "  val_set[col].fillna(median_value, inplace=True)\n",
      "/var/folders/pw/sbpycr1d17b1j4255gwjl17c0000gn/T/ipykernel_41452/1480451714.py:6: FutureWarning: A value is trying to be set on a copy of a DataFrame or Series through chained assignment using an inplace method.\n",
      "The behavior will change in pandas 3.0. This inplace method will never work because the intermediate object on which we are setting values always behaves as a copy.\n",
      "\n",
      "For example, when doing 'df[col].method(value, inplace=True)', try using 'df.method({col: value}, inplace=True)' or df[col] = df[col].method(value) instead, to perform the operation inplace on the original object.\n",
      "\n",
      "\n",
      "  test[col].fillna(median_value, inplace=True)\n",
      "/var/folders/pw/sbpycr1d17b1j4255gwjl17c0000gn/T/ipykernel_41452/1480451714.py:4: FutureWarning: A value is trying to be set on a copy of a DataFrame or Series through chained assignment using an inplace method.\n",
      "The behavior will change in pandas 3.0. This inplace method will never work because the intermediate object on which we are setting values always behaves as a copy.\n",
      "\n",
      "For example, when doing 'df[col].method(value, inplace=True)', try using 'df.method({col: value}, inplace=True)' or df[col] = df[col].method(value) instead, to perform the operation inplace on the original object.\n",
      "\n",
      "\n",
      "  train_set[col].fillna(median_value, inplace=True)\n",
      "/var/folders/pw/sbpycr1d17b1j4255gwjl17c0000gn/T/ipykernel_41452/1480451714.py:5: FutureWarning: A value is trying to be set on a copy of a DataFrame or Series through chained assignment using an inplace method.\n",
      "The behavior will change in pandas 3.0. This inplace method will never work because the intermediate object on which we are setting values always behaves as a copy.\n",
      "\n",
      "For example, when doing 'df[col].method(value, inplace=True)', try using 'df.method({col: value}, inplace=True)' or df[col] = df[col].method(value) instead, to perform the operation inplace on the original object.\n",
      "\n",
      "\n",
      "  val_set[col].fillna(median_value, inplace=True)\n",
      "/var/folders/pw/sbpycr1d17b1j4255gwjl17c0000gn/T/ipykernel_41452/1480451714.py:6: FutureWarning: A value is trying to be set on a copy of a DataFrame or Series through chained assignment using an inplace method.\n",
      "The behavior will change in pandas 3.0. This inplace method will never work because the intermediate object on which we are setting values always behaves as a copy.\n",
      "\n",
      "For example, when doing 'df[col].method(value, inplace=True)', try using 'df.method({col: value}, inplace=True)' or df[col] = df[col].method(value) instead, to perform the operation inplace on the original object.\n",
      "\n",
      "\n",
      "  test[col].fillna(median_value, inplace=True)\n"
     ]
    }
   ],
   "source": [
    "for col in col_fill_median:\n",
    "    median_value = train_set[col].median()\n",
    "    \n",
    "    train_set[col].fillna(median_value, inplace=True)\n",
    "    val_set[col].fillna(median_value, inplace=True)\n",
    "    test[col].fillna(median_value, inplace=True)"
   ]
  },
  {
   "cell_type": "code",
   "execution_count": 59,
   "metadata": {},
   "outputs": [],
   "source": [
    "col_fill_mode = ['C-2 Date', 'C-3 Date', 'First Hearing Date', 'Zip Code']"
   ]
  },
  {
   "cell_type": "code",
   "execution_count": 60,
   "metadata": {},
   "outputs": [
    {
     "name": "stderr",
     "output_type": "stream",
     "text": [
      "/var/folders/pw/sbpycr1d17b1j4255gwjl17c0000gn/T/ipykernel_41452/1051533434.py:4: FutureWarning: A value is trying to be set on a copy of a DataFrame or Series through chained assignment using an inplace method.\n",
      "The behavior will change in pandas 3.0. This inplace method will never work because the intermediate object on which we are setting values always behaves as a copy.\n",
      "\n",
      "For example, when doing 'df[col].method(value, inplace=True)', try using 'df.method({col: value}, inplace=True)' or df[col] = df[col].method(value) instead, to perform the operation inplace on the original object.\n",
      "\n",
      "\n",
      "  train_set[col].fillna(mode_value, inplace=True)\n",
      "/var/folders/pw/sbpycr1d17b1j4255gwjl17c0000gn/T/ipykernel_41452/1051533434.py:5: FutureWarning: A value is trying to be set on a copy of a DataFrame or Series through chained assignment using an inplace method.\n",
      "The behavior will change in pandas 3.0. This inplace method will never work because the intermediate object on which we are setting values always behaves as a copy.\n",
      "\n",
      "For example, when doing 'df[col].method(value, inplace=True)', try using 'df.method({col: value}, inplace=True)' or df[col] = df[col].method(value) instead, to perform the operation inplace on the original object.\n",
      "\n",
      "\n",
      "  val_set[col].fillna(mode_value, inplace=True)\n",
      "/var/folders/pw/sbpycr1d17b1j4255gwjl17c0000gn/T/ipykernel_41452/1051533434.py:6: FutureWarning: A value is trying to be set on a copy of a DataFrame or Series through chained assignment using an inplace method.\n",
      "The behavior will change in pandas 3.0. This inplace method will never work because the intermediate object on which we are setting values always behaves as a copy.\n",
      "\n",
      "For example, when doing 'df[col].method(value, inplace=True)', try using 'df.method({col: value}, inplace=True)' or df[col] = df[col].method(value) instead, to perform the operation inplace on the original object.\n",
      "\n",
      "\n",
      "  test[col].fillna(mode_value, inplace=True)\n"
     ]
    }
   ],
   "source": [
    "for col in col_fill_mode:\n",
    "    mode_value = train_set[col].mode()[0]\n",
    "    \n",
    "    train_set[col].fillna(mode_value, inplace=True)\n",
    "    val_set[col].fillna(mode_value, inplace=True)\n",
    "    test[col].fillna(mode_value, inplace=True)"
   ]
  },
  {
   "cell_type": "markdown",
   "metadata": {},
   "source": [
    "<br>\n",
    "\n",
    "#### 3.4 Feature Scaling"
   ]
  },
  {
   "cell_type": "markdown",
   "metadata": {},
   "source": [
    "Before applying the scaler is necessary to first split the `train_set`, `val_set` and `test` into a numerical and categorical set. In this way, we can apply the scaler in the numerical features."
   ]
  },
  {
   "cell_type": "code",
   "execution_count": 61,
   "metadata": {},
   "outputs": [],
   "source": [
    "train_numerical = train_set.select_dtypes(include='number')\n",
    "train_categorical = train_set.select_dtypes(include='object')"
   ]
  },
  {
   "cell_type": "code",
   "execution_count": 67,
   "metadata": {},
   "outputs": [],
   "source": [
    "val_numerical = val_set.select_dtypes(include='number')\n",
    "val_categorical = val_set.select_dtypes(include='object')"
   ]
  },
  {
   "cell_type": "code",
   "execution_count": 72,
   "metadata": {},
   "outputs": [],
   "source": [
    "test_numerical = test.select_dtypes(include='number')\n",
    "test_categorical = test.select_dtypes(include='object')"
   ]
  },
  {
   "cell_type": "markdown",
   "metadata": {},
   "source": [
    "Getting the non boolean features so we can scale these features."
   ]
  },
  {
   "cell_type": "code",
   "execution_count": 66,
   "metadata": {},
   "outputs": [],
   "source": [
    "train_num_excluding_booleans = train_numerical.loc[:, train_numerical.nunique() > 2]"
   ]
  },
  {
   "cell_type": "code",
   "execution_count": 68,
   "metadata": {},
   "outputs": [],
   "source": [
    "val_num_excluding_booleans = val_numerical.loc[:, val_numerical.nunique() > 2]"
   ]
  },
  {
   "cell_type": "code",
   "execution_count": 73,
   "metadata": {},
   "outputs": [],
   "source": [
    "test_num_excluding_booleans = test_numerical.loc[:, test_numerical.nunique() > 2]"
   ]
  },
  {
   "cell_type": "markdown",
   "metadata": {},
   "source": [
    "<br>\n",
    "\n",
    "Scaler"
   ]
  },
  {
   "cell_type": "code",
   "execution_count": 74,
   "metadata": {},
   "outputs": [],
   "source": [
    "scaler = RobustScaler().fit(train_num_excluding_booleans)"
   ]
  },
  {
   "cell_type": "markdown",
   "metadata": {},
   "source": [
    "Fitting the scaler on the numerical training data and transforming the training data. Also, converts it to a dataframe."
   ]
  },
  {
   "cell_type": "code",
   "execution_count": 75,
   "metadata": {},
   "outputs": [],
   "source": [
    "X_train_rb = scaler.transform(train_num_excluding_booleans) \n",
    "X_train_rb = pd.DataFrame(X_train_rb, columns = train_num_excluding_booleans.columns).set_index(train_num_excluding_booleans.index)"
   ]
  },
  {
   "cell_type": "markdown",
   "metadata": {},
   "source": [
    "Transforming the validation data using the same scaler and converting to a dataframe."
   ]
  },
  {
   "cell_type": "code",
   "execution_count": 77,
   "metadata": {},
   "outputs": [],
   "source": [
    "X_val_rb = scaler.transform(val_num_excluding_booleans) \n",
    "X_val_rb = pd.DataFrame(val_num_excluding_booleans, columns = val_num_excluding_booleans.columns).set_index(val_num_excluding_booleans.index)"
   ]
  },
  {
   "cell_type": "markdown",
   "metadata": {},
   "source": [
    "Transforming the test data using the same scaler and converting to a dataframe."
   ]
  },
  {
   "cell_type": "code",
   "execution_count": 78,
   "metadata": {},
   "outputs": [],
   "source": [
    "test_rb = scaler.transform(test_num_excluding_booleans) \n",
    "test_rb = pd.DataFrame(test_num_excluding_booleans, columns = test_num_excluding_booleans.columns).set_index(test_num_excluding_booleans.index)"
   ]
  },
  {
   "cell_type": "markdown",
   "metadata": {},
   "source": [
    "<br>\n",
    "\n",
    "Concatenate the datasets"
   ]
  },
  {
   "cell_type": "code",
   "execution_count": 81,
   "metadata": {},
   "outputs": [],
   "source": [
    "# Extract boolean columns from the original datasets\n",
    "train_num_booleans = train_numerical.loc[:, train_numerical.nunique() <= 2]\n",
    "val_num_booleans = val_numerical.loc[:, val_numerical.nunique() <= 2]\n",
    "test_num_booleans = test_numerical.loc[:, test_numerical.nunique() <= 2]"
   ]
  },
  {
   "cell_type": "code",
   "execution_count": 83,
   "metadata": {},
   "outputs": [],
   "source": [
    "X_train_full = pd.concat([X_train_rb, train_num_booleans, train_categorical], axis=1)\n",
    "X_val_full = pd.concat([X_val_rb, val_num_booleans, val_categorical], axis=1)\n",
    "test_full = pd.concat([test_rb, test_num_booleans, test_categorical], axis=1)"
   ]
  },
  {
   "cell_type": "code",
   "execution_count": 84,
   "metadata": {},
   "outputs": [
    {
     "data": {
      "text/html": [
       "<div>\n",
       "<style scoped>\n",
       "    .dataframe tbody tr th:only-of-type {\n",
       "        vertical-align: middle;\n",
       "    }\n",
       "\n",
       "    .dataframe tbody tr th {\n",
       "        vertical-align: top;\n",
       "    }\n",
       "\n",
       "    .dataframe thead th {\n",
       "        text-align: right;\n",
       "    }\n",
       "</style>\n",
       "<table border=\"1\" class=\"dataframe\">\n",
       "  <thead>\n",
       "    <tr style=\"text-align: right;\">\n",
       "      <th></th>\n",
       "      <th>Age at Injury</th>\n",
       "      <th>Average Weekly Wage</th>\n",
       "      <th>Birth Year</th>\n",
       "      <th>Carrier Type</th>\n",
       "      <th>IME-4 Count</th>\n",
       "      <th>Industry Code</th>\n",
       "      <th>Medical Fee Region</th>\n",
       "      <th>WCIO Cause of Injury Code</th>\n",
       "      <th>WCIO Nature of Injury Code</th>\n",
       "      <th>WCIO Part Of Body Code</th>\n",
       "      <th>Number of Dependents</th>\n",
       "      <th>Accident Year</th>\n",
       "      <th>Agreement Reached</th>\n",
       "      <th>Received_C2</th>\n",
       "      <th>Received_C3</th>\n",
       "      <th>Hearing_held</th>\n",
       "      <th>Attorney/Representative_Y</th>\n",
       "      <th>COVID-19 Indicator_Y</th>\n",
       "      <th>Alternative Dispute Resolution_N</th>\n",
       "      <th>Alternative Dispute Resolution_Y</th>\n",
       "      <th>Gender_F</th>\n",
       "      <th>Gender_M</th>\n",
       "      <th>Gender_U</th>\n",
       "      <th>Assembly Date</th>\n",
       "      <th>C-2 Date</th>\n",
       "      <th>C-3 Date</th>\n",
       "      <th>Carrier Name</th>\n",
       "      <th>County of Injury</th>\n",
       "      <th>District Name</th>\n",
       "      <th>First Hearing Date</th>\n",
       "      <th>Zip Code</th>\n",
       "    </tr>\n",
       "    <tr>\n",
       "      <th>Claim Identifier</th>\n",
       "      <th></th>\n",
       "      <th></th>\n",
       "      <th></th>\n",
       "      <th></th>\n",
       "      <th></th>\n",
       "      <th></th>\n",
       "      <th></th>\n",
       "      <th></th>\n",
       "      <th></th>\n",
       "      <th></th>\n",
       "      <th></th>\n",
       "      <th></th>\n",
       "      <th></th>\n",
       "      <th></th>\n",
       "      <th></th>\n",
       "      <th></th>\n",
       "      <th></th>\n",
       "      <th></th>\n",
       "      <th></th>\n",
       "      <th></th>\n",
       "      <th></th>\n",
       "      <th></th>\n",
       "      <th></th>\n",
       "      <th></th>\n",
       "      <th></th>\n",
       "      <th></th>\n",
       "      <th></th>\n",
       "      <th></th>\n",
       "      <th></th>\n",
       "      <th></th>\n",
       "      <th></th>\n",
       "    </tr>\n",
       "  </thead>\n",
       "  <tbody>\n",
       "    <tr>\n",
       "      <th>5785935</th>\n",
       "      <td>0.347826</td>\n",
       "      <td>0.989528</td>\n",
       "      <td>-0.318182</td>\n",
       "      <td>0.938705</td>\n",
       "      <td>2.0</td>\n",
       "      <td>-0.447372</td>\n",
       "      <td>0.720134</td>\n",
       "      <td>0.582815</td>\n",
       "      <td>-0.149595</td>\n",
       "      <td>1.095184</td>\n",
       "      <td>0.75</td>\n",
       "      <td>0.0</td>\n",
       "      <td>0.0</td>\n",
       "      <td>1</td>\n",
       "      <td>1</td>\n",
       "      <td>1</td>\n",
       "      <td>1</td>\n",
       "      <td>0</td>\n",
       "      <td>1.0</td>\n",
       "      <td>0.0</td>\n",
       "      <td>1.0</td>\n",
       "      <td>0.0</td>\n",
       "      <td>0.0</td>\n",
       "      <td>2021-08-10</td>\n",
       "      <td>2021-08-10</td>\n",
       "      <td>2021-08-30</td>\n",
       "      <td>PROPERTY AND CASUALTY</td>\n",
       "      <td>QUEENS</td>\n",
       "      <td>NYC</td>\n",
       "      <td>2022-04-15</td>\n",
       "      <td>11432</td>\n",
       "    </tr>\n",
       "    <tr>\n",
       "      <th>5980545</th>\n",
       "      <td>-0.478261</td>\n",
       "      <td>1.055553</td>\n",
       "      <td>0.590909</td>\n",
       "      <td>0.000000</td>\n",
       "      <td>0.0</td>\n",
       "      <td>0.944149</td>\n",
       "      <td>0.720134</td>\n",
       "      <td>0.268416</td>\n",
       "      <td>-0.380814</td>\n",
       "      <td>0.726994</td>\n",
       "      <td>-0.25</td>\n",
       "      <td>0.5</td>\n",
       "      <td>0.0</td>\n",
       "      <td>1</td>\n",
       "      <td>1</td>\n",
       "      <td>1</td>\n",
       "      <td>0</td>\n",
       "      <td>0</td>\n",
       "      <td>1.0</td>\n",
       "      <td>0.0</td>\n",
       "      <td>1.0</td>\n",
       "      <td>0.0</td>\n",
       "      <td>0.0</td>\n",
       "      <td>2022-05-02</td>\n",
       "      <td>2022-04-30</td>\n",
       "      <td>2020-02-10</td>\n",
       "      <td>HEALTH &amp; HOSPITAL CORP.</td>\n",
       "      <td>BRONX</td>\n",
       "      <td>NYC</td>\n",
       "      <td>2023-01-09</td>\n",
       "      <td>10451</td>\n",
       "    </tr>\n",
       "    <tr>\n",
       "      <th>5552635</th>\n",
       "      <td>0.086957</td>\n",
       "      <td>0.000000</td>\n",
       "      <td>-0.090909</td>\n",
       "      <td>0.938705</td>\n",
       "      <td>0.0</td>\n",
       "      <td>-0.358211</td>\n",
       "      <td>0.720134</td>\n",
       "      <td>-0.619590</td>\n",
       "      <td>0.748100</td>\n",
       "      <td>-0.147965</td>\n",
       "      <td>0.00</td>\n",
       "      <td>-0.5</td>\n",
       "      <td>0.0</td>\n",
       "      <td>1</td>\n",
       "      <td>1</td>\n",
       "      <td>1</td>\n",
       "      <td>0</td>\n",
       "      <td>0</td>\n",
       "      <td>1.0</td>\n",
       "      <td>0.0</td>\n",
       "      <td>0.0</td>\n",
       "      <td>1.0</td>\n",
       "      <td>0.0</td>\n",
       "      <td>2020-09-04</td>\n",
       "      <td>2020-09-04</td>\n",
       "      <td>2020-02-10</td>\n",
       "      <td>AMERICAN ZURICH INSURANCE CO</td>\n",
       "      <td>KINGS</td>\n",
       "      <td>NYC</td>\n",
       "      <td>2022-04-15</td>\n",
       "      <td>11203</td>\n",
       "    </tr>\n",
       "    <tr>\n",
       "      <th>5758039</th>\n",
       "      <td>-0.739130</td>\n",
       "      <td>0.000000</td>\n",
       "      <td>0.818182</td>\n",
       "      <td>-0.395841</td>\n",
       "      <td>0.0</td>\n",
       "      <td>0.000000</td>\n",
       "      <td>0.720134</td>\n",
       "      <td>-0.270315</td>\n",
       "      <td>0.417989</td>\n",
       "      <td>-0.559172</td>\n",
       "      <td>-0.50</td>\n",
       "      <td>0.0</td>\n",
       "      <td>0.0</td>\n",
       "      <td>1</td>\n",
       "      <td>1</td>\n",
       "      <td>1</td>\n",
       "      <td>0</td>\n",
       "      <td>0</td>\n",
       "      <td>1.0</td>\n",
       "      <td>0.0</td>\n",
       "      <td>0.0</td>\n",
       "      <td>1.0</td>\n",
       "      <td>0.0</td>\n",
       "      <td>2021-07-02</td>\n",
       "      <td>2021-07-02</td>\n",
       "      <td>2020-02-10</td>\n",
       "      <td>NORDSTROM, INC.</td>\n",
       "      <td>KINGS</td>\n",
       "      <td>NYC</td>\n",
       "      <td>2022-04-15</td>\n",
       "      <td>11237</td>\n",
       "    </tr>\n",
       "    <tr>\n",
       "      <th>5951382</th>\n",
       "      <td>0.000000</td>\n",
       "      <td>0.826736</td>\n",
       "      <td>0.090909</td>\n",
       "      <td>-0.395841</td>\n",
       "      <td>0.0</td>\n",
       "      <td>-0.083434</td>\n",
       "      <td>0.720134</td>\n",
       "      <td>0.000000</td>\n",
       "      <td>0.000000</td>\n",
       "      <td>0.726994</td>\n",
       "      <td>0.25</td>\n",
       "      <td>0.5</td>\n",
       "      <td>0.0</td>\n",
       "      <td>1</td>\n",
       "      <td>1</td>\n",
       "      <td>1</td>\n",
       "      <td>1</td>\n",
       "      <td>0</td>\n",
       "      <td>1.0</td>\n",
       "      <td>0.0</td>\n",
       "      <td>0.0</td>\n",
       "      <td>1.0</td>\n",
       "      <td>0.0</td>\n",
       "      <td>2022-03-25</td>\n",
       "      <td>2022-03-30</td>\n",
       "      <td>2022-03-15</td>\n",
       "      <td>NEW YORK BLACK CAR OPERATORS'</td>\n",
       "      <td>NASSAU</td>\n",
       "      <td>NYC</td>\n",
       "      <td>2022-12-28</td>\n",
       "      <td>11003</td>\n",
       "    </tr>\n",
       "    <tr>\n",
       "      <th>...</th>\n",
       "      <td>...</td>\n",
       "      <td>...</td>\n",
       "      <td>...</td>\n",
       "      <td>...</td>\n",
       "      <td>...</td>\n",
       "      <td>...</td>\n",
       "      <td>...</td>\n",
       "      <td>...</td>\n",
       "      <td>...</td>\n",
       "      <td>...</td>\n",
       "      <td>...</td>\n",
       "      <td>...</td>\n",
       "      <td>...</td>\n",
       "      <td>...</td>\n",
       "      <td>...</td>\n",
       "      <td>...</td>\n",
       "      <td>...</td>\n",
       "      <td>...</td>\n",
       "      <td>...</td>\n",
       "      <td>...</td>\n",
       "      <td>...</td>\n",
       "      <td>...</td>\n",
       "      <td>...</td>\n",
       "      <td>...</td>\n",
       "      <td>...</td>\n",
       "      <td>...</td>\n",
       "      <td>...</td>\n",
       "      <td>...</td>\n",
       "      <td>...</td>\n",
       "      <td>...</td>\n",
       "      <td>...</td>\n",
       "    </tr>\n",
       "    <tr>\n",
       "      <th>5837651</th>\n",
       "      <td>-0.695652</td>\n",
       "      <td>1.066416</td>\n",
       "      <td>0.772727</td>\n",
       "      <td>0.938705</td>\n",
       "      <td>1.0</td>\n",
       "      <td>0.944149</td>\n",
       "      <td>-0.452118</td>\n",
       "      <td>-0.566298</td>\n",
       "      <td>-0.404784</td>\n",
       "      <td>-0.549172</td>\n",
       "      <td>0.75</td>\n",
       "      <td>0.0</td>\n",
       "      <td>0.0</td>\n",
       "      <td>1</td>\n",
       "      <td>1</td>\n",
       "      <td>1</td>\n",
       "      <td>1</td>\n",
       "      <td>0</td>\n",
       "      <td>1.0</td>\n",
       "      <td>0.0</td>\n",
       "      <td>0.0</td>\n",
       "      <td>1.0</td>\n",
       "      <td>0.0</td>\n",
       "      <td>2021-10-19</td>\n",
       "      <td>2021-10-19</td>\n",
       "      <td>2021-11-10</td>\n",
       "      <td>INDEMNITY INSURANCE CO OF</td>\n",
       "      <td>WESTCHESTER</td>\n",
       "      <td>NYC</td>\n",
       "      <td>2022-01-24</td>\n",
       "      <td>10805</td>\n",
       "    </tr>\n",
       "    <tr>\n",
       "      <th>5781926</th>\n",
       "      <td>0.565217</td>\n",
       "      <td>1.029044</td>\n",
       "      <td>-0.545455</td>\n",
       "      <td>0.938705</td>\n",
       "      <td>7.0</td>\n",
       "      <td>0.944149</td>\n",
       "      <td>0.720134</td>\n",
       "      <td>0.938996</td>\n",
       "      <td>0.417989</td>\n",
       "      <td>0.000000</td>\n",
       "      <td>-0.50</td>\n",
       "      <td>0.0</td>\n",
       "      <td>0.0</td>\n",
       "      <td>1</td>\n",
       "      <td>1</td>\n",
       "      <td>1</td>\n",
       "      <td>1</td>\n",
       "      <td>0</td>\n",
       "      <td>1.0</td>\n",
       "      <td>0.0</td>\n",
       "      <td>0.0</td>\n",
       "      <td>1.0</td>\n",
       "      <td>0.0</td>\n",
       "      <td>2021-08-04</td>\n",
       "      <td>2021-08-04</td>\n",
       "      <td>2021-08-19</td>\n",
       "      <td>REDWOOD FIRE &amp; CASUALTY</td>\n",
       "      <td>QUEENS</td>\n",
       "      <td>NYC</td>\n",
       "      <td>2022-03-07</td>\n",
       "      <td>11429</td>\n",
       "    </tr>\n",
       "    <tr>\n",
       "      <th>5890060</th>\n",
       "      <td>0.652174</td>\n",
       "      <td>0.999252</td>\n",
       "      <td>-0.636364</td>\n",
       "      <td>0.938705</td>\n",
       "      <td>0.0</td>\n",
       "      <td>-0.405647</td>\n",
       "      <td>0.000000</td>\n",
       "      <td>-0.220534</td>\n",
       "      <td>0.748100</td>\n",
       "      <td>0.957785</td>\n",
       "      <td>0.50</td>\n",
       "      <td>0.0</td>\n",
       "      <td>0.0</td>\n",
       "      <td>1</td>\n",
       "      <td>1</td>\n",
       "      <td>1</td>\n",
       "      <td>0</td>\n",
       "      <td>0</td>\n",
       "      <td>1.0</td>\n",
       "      <td>0.0</td>\n",
       "      <td>1.0</td>\n",
       "      <td>0.0</td>\n",
       "      <td>0.0</td>\n",
       "      <td>2022-01-04</td>\n",
       "      <td>2022-01-04</td>\n",
       "      <td>2020-02-10</td>\n",
       "      <td>UTICA MUTUAL INS CO</td>\n",
       "      <td>ERIE</td>\n",
       "      <td>BUFFALO</td>\n",
       "      <td>2022-04-15</td>\n",
       "      <td>14127</td>\n",
       "    </tr>\n",
       "    <tr>\n",
       "      <th>5539380</th>\n",
       "      <td>-0.695652</td>\n",
       "      <td>0.000000</td>\n",
       "      <td>0.727273</td>\n",
       "      <td>0.938705</td>\n",
       "      <td>0.0</td>\n",
       "      <td>-0.169923</td>\n",
       "      <td>0.720134</td>\n",
       "      <td>0.698089</td>\n",
       "      <td>0.748100</td>\n",
       "      <td>-0.147965</td>\n",
       "      <td>-0.50</td>\n",
       "      <td>-0.5</td>\n",
       "      <td>0.0</td>\n",
       "      <td>1</td>\n",
       "      <td>1</td>\n",
       "      <td>1</td>\n",
       "      <td>0</td>\n",
       "      <td>0</td>\n",
       "      <td>1.0</td>\n",
       "      <td>0.0</td>\n",
       "      <td>0.0</td>\n",
       "      <td>1.0</td>\n",
       "      <td>0.0</td>\n",
       "      <td>2020-08-17</td>\n",
       "      <td>2020-08-17</td>\n",
       "      <td>2020-02-10</td>\n",
       "      <td>NEW HAMPSHIRE INSURANCE CO</td>\n",
       "      <td>KINGS</td>\n",
       "      <td>NYC</td>\n",
       "      <td>2022-04-15</td>\n",
       "      <td>11226</td>\n",
       "    </tr>\n",
       "    <tr>\n",
       "      <th>6157884</th>\n",
       "      <td>-0.869565</td>\n",
       "      <td>0.000000</td>\n",
       "      <td>1.000000</td>\n",
       "      <td>0.938705</td>\n",
       "      <td>0.0</td>\n",
       "      <td>0.000000</td>\n",
       "      <td>0.720134</td>\n",
       "      <td>-0.196535</td>\n",
       "      <td>0.417989</td>\n",
       "      <td>-0.147965</td>\n",
       "      <td>-0.75</td>\n",
       "      <td>0.5</td>\n",
       "      <td>0.0</td>\n",
       "      <td>1</td>\n",
       "      <td>1</td>\n",
       "      <td>1</td>\n",
       "      <td>0</td>\n",
       "      <td>0</td>\n",
       "      <td>1.0</td>\n",
       "      <td>0.0</td>\n",
       "      <td>1.0</td>\n",
       "      <td>0.0</td>\n",
       "      <td>0.0</td>\n",
       "      <td>2022-12-19</td>\n",
       "      <td>2022-12-19</td>\n",
       "      <td>2020-02-10</td>\n",
       "      <td>A I U INSURANCE COMPANY</td>\n",
       "      <td>BRONX</td>\n",
       "      <td>NYC</td>\n",
       "      <td>2022-04-15</td>\n",
       "      <td>10465</td>\n",
       "    </tr>\n",
       "  </tbody>\n",
       "</table>\n",
       "<p>459220 rows × 31 columns</p>\n",
       "</div>"
      ],
      "text/plain": [
       "                  Age at Injury  Average Weekly Wage  Birth Year  \\\n",
       "Claim Identifier                                                   \n",
       "5785935                0.347826             0.989528   -0.318182   \n",
       "5980545               -0.478261             1.055553    0.590909   \n",
       "5552635                0.086957             0.000000   -0.090909   \n",
       "5758039               -0.739130             0.000000    0.818182   \n",
       "5951382                0.000000             0.826736    0.090909   \n",
       "...                         ...                  ...         ...   \n",
       "5837651               -0.695652             1.066416    0.772727   \n",
       "5781926                0.565217             1.029044   -0.545455   \n",
       "5890060                0.652174             0.999252   -0.636364   \n",
       "5539380               -0.695652             0.000000    0.727273   \n",
       "6157884               -0.869565             0.000000    1.000000   \n",
       "\n",
       "                  Carrier Type  IME-4 Count  Industry Code  \\\n",
       "Claim Identifier                                             \n",
       "5785935               0.938705          2.0      -0.447372   \n",
       "5980545               0.000000          0.0       0.944149   \n",
       "5552635               0.938705          0.0      -0.358211   \n",
       "5758039              -0.395841          0.0       0.000000   \n",
       "5951382              -0.395841          0.0      -0.083434   \n",
       "...                        ...          ...            ...   \n",
       "5837651               0.938705          1.0       0.944149   \n",
       "5781926               0.938705          7.0       0.944149   \n",
       "5890060               0.938705          0.0      -0.405647   \n",
       "5539380               0.938705          0.0      -0.169923   \n",
       "6157884               0.938705          0.0       0.000000   \n",
       "\n",
       "                  Medical Fee Region  WCIO Cause of Injury Code  \\\n",
       "Claim Identifier                                                  \n",
       "5785935                     0.720134                   0.582815   \n",
       "5980545                     0.720134                   0.268416   \n",
       "5552635                     0.720134                  -0.619590   \n",
       "5758039                     0.720134                  -0.270315   \n",
       "5951382                     0.720134                   0.000000   \n",
       "...                              ...                        ...   \n",
       "5837651                    -0.452118                  -0.566298   \n",
       "5781926                     0.720134                   0.938996   \n",
       "5890060                     0.000000                  -0.220534   \n",
       "5539380                     0.720134                   0.698089   \n",
       "6157884                     0.720134                  -0.196535   \n",
       "\n",
       "                  WCIO Nature of Injury Code  WCIO Part Of Body Code  \\\n",
       "Claim Identifier                                                       \n",
       "5785935                            -0.149595                1.095184   \n",
       "5980545                            -0.380814                0.726994   \n",
       "5552635                             0.748100               -0.147965   \n",
       "5758039                             0.417989               -0.559172   \n",
       "5951382                             0.000000                0.726994   \n",
       "...                                      ...                     ...   \n",
       "5837651                            -0.404784               -0.549172   \n",
       "5781926                             0.417989                0.000000   \n",
       "5890060                             0.748100                0.957785   \n",
       "5539380                             0.748100               -0.147965   \n",
       "6157884                             0.417989               -0.147965   \n",
       "\n",
       "                  Number of Dependents  Accident Year  Agreement Reached  \\\n",
       "Claim Identifier                                                           \n",
       "5785935                           0.75            0.0                0.0   \n",
       "5980545                          -0.25            0.5                0.0   \n",
       "5552635                           0.00           -0.5                0.0   \n",
       "5758039                          -0.50            0.0                0.0   \n",
       "5951382                           0.25            0.5                0.0   \n",
       "...                                ...            ...                ...   \n",
       "5837651                           0.75            0.0                0.0   \n",
       "5781926                          -0.50            0.0                0.0   \n",
       "5890060                           0.50            0.0                0.0   \n",
       "5539380                          -0.50           -0.5                0.0   \n",
       "6157884                          -0.75            0.5                0.0   \n",
       "\n",
       "                  Received_C2  Received_C3  Hearing_held  \\\n",
       "Claim Identifier                                           \n",
       "5785935                     1            1             1   \n",
       "5980545                     1            1             1   \n",
       "5552635                     1            1             1   \n",
       "5758039                     1            1             1   \n",
       "5951382                     1            1             1   \n",
       "...                       ...          ...           ...   \n",
       "5837651                     1            1             1   \n",
       "5781926                     1            1             1   \n",
       "5890060                     1            1             1   \n",
       "5539380                     1            1             1   \n",
       "6157884                     1            1             1   \n",
       "\n",
       "                  Attorney/Representative_Y  COVID-19 Indicator_Y  \\\n",
       "Claim Identifier                                                    \n",
       "5785935                                   1                     0   \n",
       "5980545                                   0                     0   \n",
       "5552635                                   0                     0   \n",
       "5758039                                   0                     0   \n",
       "5951382                                   1                     0   \n",
       "...                                     ...                   ...   \n",
       "5837651                                   1                     0   \n",
       "5781926                                   1                     0   \n",
       "5890060                                   0                     0   \n",
       "5539380                                   0                     0   \n",
       "6157884                                   0                     0   \n",
       "\n",
       "                  Alternative Dispute Resolution_N  \\\n",
       "Claim Identifier                                     \n",
       "5785935                                        1.0   \n",
       "5980545                                        1.0   \n",
       "5552635                                        1.0   \n",
       "5758039                                        1.0   \n",
       "5951382                                        1.0   \n",
       "...                                            ...   \n",
       "5837651                                        1.0   \n",
       "5781926                                        1.0   \n",
       "5890060                                        1.0   \n",
       "5539380                                        1.0   \n",
       "6157884                                        1.0   \n",
       "\n",
       "                  Alternative Dispute Resolution_Y  Gender_F  Gender_M  \\\n",
       "Claim Identifier                                                         \n",
       "5785935                                        0.0       1.0       0.0   \n",
       "5980545                                        0.0       1.0       0.0   \n",
       "5552635                                        0.0       0.0       1.0   \n",
       "5758039                                        0.0       0.0       1.0   \n",
       "5951382                                        0.0       0.0       1.0   \n",
       "...                                            ...       ...       ...   \n",
       "5837651                                        0.0       0.0       1.0   \n",
       "5781926                                        0.0       0.0       1.0   \n",
       "5890060                                        0.0       1.0       0.0   \n",
       "5539380                                        0.0       0.0       1.0   \n",
       "6157884                                        0.0       1.0       0.0   \n",
       "\n",
       "                  Gender_U Assembly Date    C-2 Date    C-3 Date  \\\n",
       "Claim Identifier                                                   \n",
       "5785935                0.0    2021-08-10  2021-08-10  2021-08-30   \n",
       "5980545                0.0    2022-05-02  2022-04-30  2020-02-10   \n",
       "5552635                0.0    2020-09-04  2020-09-04  2020-02-10   \n",
       "5758039                0.0    2021-07-02  2021-07-02  2020-02-10   \n",
       "5951382                0.0    2022-03-25  2022-03-30  2022-03-15   \n",
       "...                    ...           ...         ...         ...   \n",
       "5837651                0.0    2021-10-19  2021-10-19  2021-11-10   \n",
       "5781926                0.0    2021-08-04  2021-08-04  2021-08-19   \n",
       "5890060                0.0    2022-01-04  2022-01-04  2020-02-10   \n",
       "5539380                0.0    2020-08-17  2020-08-17  2020-02-10   \n",
       "6157884                0.0    2022-12-19  2022-12-19  2020-02-10   \n",
       "\n",
       "                                   Carrier Name County of Injury  \\\n",
       "Claim Identifier                                                   \n",
       "5785935                   PROPERTY AND CASUALTY           QUEENS   \n",
       "5980545                 HEALTH & HOSPITAL CORP.            BRONX   \n",
       "5552635            AMERICAN ZURICH INSURANCE CO            KINGS   \n",
       "5758039                         NORDSTROM, INC.            KINGS   \n",
       "5951382           NEW YORK BLACK CAR OPERATORS'           NASSAU   \n",
       "...                                         ...              ...   \n",
       "5837651               INDEMNITY INSURANCE CO OF      WESTCHESTER   \n",
       "5781926                 REDWOOD FIRE & CASUALTY           QUEENS   \n",
       "5890060                     UTICA MUTUAL INS CO             ERIE   \n",
       "5539380              NEW HAMPSHIRE INSURANCE CO            KINGS   \n",
       "6157884                 A I U INSURANCE COMPANY            BRONX   \n",
       "\n",
       "                 District Name First Hearing Date Zip Code  \n",
       "Claim Identifier                                            \n",
       "5785935                    NYC         2022-04-15    11432  \n",
       "5980545                    NYC         2023-01-09    10451  \n",
       "5552635                    NYC         2022-04-15    11203  \n",
       "5758039                    NYC         2022-04-15    11237  \n",
       "5951382                    NYC         2022-12-28    11003  \n",
       "...                        ...                ...      ...  \n",
       "5837651                    NYC         2022-01-24    10805  \n",
       "5781926                    NYC         2022-03-07    11429  \n",
       "5890060                BUFFALO         2022-04-15    14127  \n",
       "5539380                    NYC         2022-04-15    11226  \n",
       "6157884                    NYC         2022-04-15    10465  \n",
       "\n",
       "[459220 rows x 31 columns]"
      ]
     },
     "execution_count": 84,
     "metadata": {},
     "output_type": "execute_result"
    }
   ],
   "source": [
    "X_train_full"
   ]
  }
 ],
 "metadata": {
  "kernelspec": {
   "display_name": "Master_ML",
   "language": "python",
   "name": "python3"
  },
  "language_info": {
   "codemirror_mode": {
    "name": "ipython",
    "version": 3
   },
   "file_extension": ".py",
   "mimetype": "text/x-python",
   "name": "python",
   "nbconvert_exporter": "python",
   "pygments_lexer": "ipython3",
   "version": "3.12.7"
  }
 },
 "nbformat": 4,
 "nbformat_minor": 2
}
